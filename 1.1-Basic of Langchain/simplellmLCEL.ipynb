{
 "cells": [
  {
   "cell_type": "code",
   "execution_count": 1,
   "id": "65395f6a",
   "metadata": {},
   "outputs": [
    {
     "data": {
      "text/plain": [
       "True"
      ]
     },
     "execution_count": 1,
     "metadata": {},
     "output_type": "execute_result"
    }
   ],
   "source": [
    "# open sours model - Groq\n",
    "import os\n",
    "from dotenv import load_dotenv\n",
    "load_dotenv()"
   ]
  },
  {
   "cell_type": "code",
   "execution_count": 4,
   "id": "00eecae4",
   "metadata": {},
   "outputs": [],
   "source": [
    "groq_api_key = os.getenv(\"GROQ_API_KEY\")"
   ]
  },
  {
   "cell_type": "code",
   "execution_count": 5,
   "id": "ae03bf12",
   "metadata": {},
   "outputs": [
    {
     "data": {
      "text/plain": [
       "ChatGroq(client=<groq.resources.chat.completions.Completions object at 0x0000026E48DEF610>, async_client=<groq.resources.chat.completions.AsyncCompletions object at 0x0000026E48E29A50>, model_name='gemma2-9b-it', model_kwargs={}, groq_api_key=SecretStr('**********'))"
      ]
     },
     "execution_count": 5,
     "metadata": {},
     "output_type": "execute_result"
    }
   ],
   "source": [
    "from langchain_groq import ChatGroq\n",
    "\n",
    "model = ChatGroq(model=\"gemma2-9b-it\",groq_api_key=groq_api_key)\n",
    "model"
   ]
  },
  {
   "cell_type": "code",
   "execution_count": null,
   "id": "e686db33",
   "metadata": {},
   "outputs": [],
   "source": [
    "from langchain_core.messages import HumanMessage , SystemMessage\n",
    "\n",
    "messages = [\n",
    "    SystemMessage(content=\"Translate the following from english to tamil\"),\n",
    "    HumanMessage(content=\"hello what is your name?\")\n",
    "]\n",
    "responce= model.invoke(messages) # 1 --> LLM call"
   ]
  },
  {
   "cell_type": "code",
   "execution_count": 21,
   "id": "e5d66870",
   "metadata": {},
   "outputs": [
    {
     "data": {
      "text/plain": [
       "'வணக்கம்! உங்கள் பெயர் என்ன? \\n\\n(Vaṇakkam! Uṅkaḷ peru enna?)\\n\\n\\n* **வணக்கம்** (Vaṇakkam) - Hello\\n* **உங்கள்** (Uṅkaḷ) - Your\\n* **பெயர்** (peru) - Name\\n* **என்ன** (enna) - What\\n\\n\\nLet me know if you need any other translations!\\n'"
      ]
     },
     "execution_count": 21,
     "metadata": {},
     "output_type": "execute_result"
    }
   ],
   "source": [
    "responce.content"
   ]
  },
  {
   "cell_type": "code",
   "execution_count": null,
   "id": "b1139b2b",
   "metadata": {},
   "outputs": [],
   "source": [
    "from langchain_core.output_parsers import StrOutputParser\n",
    "\n",
    "parser = StrOutputParser()          # clean string Not to give AIMessage(content=...)\n",
    "\n",
    "result = parser.invoke(responce)    # 2 --> Parse output"
   ]
  },
  {
   "cell_type": "code",
   "execution_count": 23,
   "id": "7bd197cb",
   "metadata": {},
   "outputs": [
    {
     "data": {
      "text/plain": [
       "'வணக்கம்! உங்கள் பெயர் என்ன? \\n\\n(Vaṇakkam! Uṅkaḷ peru enna?)\\n\\n\\n* **வணக்கம்** (Vaṇakkam) - Hello\\n* **உங்கள்** (Uṅkaḷ) - Your\\n* **பெயர்** (peru) - Name\\n* **என்ன** (enna) - What\\n\\n\\nLet me know if you need any other translations!\\n'"
      ]
     },
     "execution_count": 23,
     "metadata": {},
     "output_type": "execute_result"
    }
   ],
   "source": [
    "result"
   ]
  },
  {
   "cell_type": "code",
   "execution_count": 26,
   "id": "bab716b7",
   "metadata": {},
   "outputs": [
    {
     "data": {
      "text/plain": [
       "\"வணக்கம்! உங்கள் பெயர் என்ன? \\n\\n(Vaṇakkam! Uṅka per enna?)\\n\\n\\nHere's a breakdown:\\n\\n* **வணக்கம் (Vaṇakkam):** Hello\\n* **உங்கள் (Uṅka):** Your\\n* **பெயர் (Per):** Name\\n* **என்ன (Enna):** What\\n\\n\\nLet me know if you have any other phrases you'd like translated!\\n\""
      ]
     },
     "execution_count": 26,
     "metadata": {},
     "output_type": "execute_result"
    }
   ],
   "source": [
    "### USING LCEL - chain the components\n",
    "\n",
    "chain = model|parser    # # Models output → Go to The Parser \n",
    "result_2 = chain.invoke(messages)\n",
    "result_2"
   ]
  },
  {
   "cell_type": "code",
   "execution_count": 28,
   "id": "27077643",
   "metadata": {},
   "outputs": [],
   "source": [
    "### prompt Template \n",
    "\n",
    "from langchain_core.prompts import ChatPromptTemplate\n",
    "\n",
    "generic_template = \"Translate the following into {language}:\"\n",
    "\n",
    "prompts = ChatPromptTemplate.from_messages(\n",
    "    [(\"system\", generic_template),(\"user\", \"{text}\")]\n",
    ")\n"
   ]
  },
  {
   "cell_type": "code",
   "execution_count": 29,
   "id": "97b0570c",
   "metadata": {},
   "outputs": [],
   "source": [
    "result = prompts.invoke({\"language\":\"Gujarati\", \"text\":\"Hello\"})"
   ]
  },
  {
   "cell_type": "code",
   "execution_count": 30,
   "id": "834916ba",
   "metadata": {},
   "outputs": [
    {
     "data": {
      "text/plain": [
       "[SystemMessage(content='Translate the following into Gujarati:', additional_kwargs={}, response_metadata={}),\n",
       " HumanMessage(content='Hello', additional_kwargs={}, response_metadata={})]"
      ]
     },
     "execution_count": 30,
     "metadata": {},
     "output_type": "execute_result"
    }
   ],
   "source": [
    "result.to_messages()"
   ]
  },
  {
   "cell_type": "code",
   "execution_count": 31,
   "id": "f58a2244",
   "metadata": {},
   "outputs": [
    {
     "data": {
      "text/plain": [
       "'नમસ્તે (Namaste) \\n\\n\\nThis is the most common and respectful way to say \"Hello\" in Gujarati. \\n'"
      ]
     },
     "execution_count": 31,
     "metadata": {},
     "output_type": "execute_result"
    }
   ],
   "source": [
    "# chaining together components with LCEL\n",
    "chain = prompts|model|parser\n",
    "chain.invoke({\"language\":\"Gujarati\", \"text\":\"Hello\"})"
   ]
  },
  {
   "cell_type": "code",
   "execution_count": 43,
   "id": "f92e470c",
   "metadata": {},
   "outputs": [
    {
     "data": {
      "text/plain": [
       "AIMessage(content=\"Hello Rahul! 👋\\n\\nIt's nice to meet you. 😊 How can I help you today?  \\n\\n\", additional_kwargs={}, response_metadata={'token_usage': {'completion_tokens': 26, 'prompt_tokens': 18, 'total_tokens': 44, 'completion_time': 0.047272727, 'prompt_time': 0.001264259, 'queue_time': 0.250116021, 'total_time': 0.048536986}, 'model_name': 'gemma2-9b-it', 'system_fingerprint': 'fp_10c08bf97d', 'service_tier': 'on_demand', 'finish_reason': 'stop', 'logprobs': None}, id='run--b6c46ede-8634-4855-9c36-9adbcedc0d0e-0', usage_metadata={'input_tokens': 18, 'output_tokens': 26, 'total_tokens': 44})"
      ]
     },
     "execution_count": 43,
     "metadata": {},
     "output_type": "execute_result"
    }
   ],
   "source": [
    "from langchain_core.messages import HumanMessage,SystemMessage\n",
    "\n",
    "message=[\n",
    "    SystemMessage(content=\"Hey you are helfull assistance \"),\n",
    "    HumanMessage(content=\"Hii Rahul\")\n",
    "]\n",
    "data = model.invoke(message) # 2\n",
    "data\n"
   ]
  },
  {
   "cell_type": "code",
   "execution_count": 44,
   "id": "d73b181a",
   "metadata": {},
   "outputs": [
    {
     "data": {
      "text/plain": [
       "\"Hello Rahul! 👋\\n\\nIt's nice to meet you. 😊 How can I help you today?  \\n\\n\""
      ]
     },
     "execution_count": 44,
     "metadata": {},
     "output_type": "execute_result"
    }
   ],
   "source": [
    "from langchain_core.output_parsers import StrOutputParser\n",
    "\n",
    "parserrahi= StrOutputParser()\n",
    "\n",
    "rese= parserrahi.invoke(data) #1\n",
    "rese"
   ]
  },
  {
   "cell_type": "code",
   "execution_count": 46,
   "id": "f3b7ef18",
   "metadata": {},
   "outputs": [
    {
     "data": {
      "text/plain": [
       "\"Hey Rahul! 👋  \\n\\nIt's great to hear from you.  How can I be helpful today? 😄 \\n\\n\""
      ]
     },
     "execution_count": 46,
     "metadata": {},
     "output_type": "execute_result"
    }
   ],
   "source": [
    "chianw = model | parserrahi \n",
    "\n",
    "chianw.invoke(message)"
   ]
  },
  {
   "cell_type": "code",
   "execution_count": null,
   "id": "24f8a38d",
   "metadata": {},
   "outputs": [],
   "source": []
  }
 ],
 "metadata": {
  "kernelspec": {
   "display_name": "Python 3",
   "language": "python",
   "name": "python3"
  },
  "language_info": {
   "codemirror_mode": {
    "name": "ipython",
    "version": 3
   },
   "file_extension": ".py",
   "mimetype": "text/x-python",
   "name": "python",
   "nbconvert_exporter": "python",
   "pygments_lexer": "ipython3",
   "version": "3.10.0"
  }
 },
 "nbformat": 4,
 "nbformat_minor": 5
}
