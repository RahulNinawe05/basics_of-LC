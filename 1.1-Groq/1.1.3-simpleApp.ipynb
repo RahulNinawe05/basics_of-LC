{
 "cells": [
  {
   "cell_type": "markdown",
   "id": "11af37e5",
   "metadata": {},
   "source": [
    "# Simple GenAI App Using Langchain "
   ]
  },
  {
   "cell_type": "markdown",
   "id": "2548bfbd",
   "metadata": {},
   "source": [
    "### load data --> Docs ---> divided our text into chaunks---> vecotre-->vectore Embedding----> vectore store in DB"
   ]
  },
  {
   "cell_type": "markdown",
   "id": "f683210f",
   "metadata": {},
   "source": [
    "### General Rule to Identify Module\n",
    "\n",
    "- 1. **langchain_core (CORE LAYER)\n",
    "Iska kaam: Sirf basic building blocks provide karna, jo LangChain ke andar hi kaam karte hain.**\n",
    "\n",
    "- 2. **langchain_community (INTEGRATIONS LAYER)\n",
    "Iska kaam: Saare external integrations handle karna.**\n",
    "\n",
    "- 3. **langchain (HIGH-LEVEL LAYER)\n",
    "Iska kaam: Sirf user-friendly wrappers provide karna jo core + community ko combine karte hain.**\n",
    "    - **Agar integration hai (jaise API, database, file format) → langchain_community**\n",
    "    - **Agar prompt, chain, schema, message → langchain_core**\n",
    "    - **Agar high-level chains ya wrappers → langchain**\n",
    "\n"
   ]
  },
  {
   "cell_type": "code",
   "execution_count": 1,
   "id": "70ca3cee",
   "metadata": {},
   "outputs": [
    {
     "data": {
      "text/plain": [
       "True"
      ]
     },
     "execution_count": 1,
     "metadata": {},
     "output_type": "execute_result"
    }
   ],
   "source": [
    "import os\n",
    "from dotenv import load_dotenv\n",
    "load_dotenv()"
   ]
  },
  {
   "cell_type": "code",
   "execution_count": 2,
   "id": "d9e4e754",
   "metadata": {},
   "outputs": [
    {
     "name": "stderr",
     "output_type": "stream",
     "text": [
      "USER_AGENT environment variable not set, consider setting it to identify your requests.\n"
     ]
    }
   ],
   "source": [
    "### Data Ingestion = from the website scrape tha data\n",
    "from langchain_community.document_loaders import WebBaseLoader"
   ]
  },
  {
   "cell_type": "code",
   "execution_count": 12,
   "id": "f8ebba77",
   "metadata": {},
   "outputs": [
    {
     "data": {
      "text/plain": [
       "<langchain_community.document_loaders.web_base.WebBaseLoader at 0x1a3296b4e50>"
      ]
     },
     "execution_count": 12,
     "metadata": {},
     "output_type": "execute_result"
    }
   ],
   "source": [
    "loader = WebBaseLoader(\"https://www.britannica.com/biography/Mahatma-Gandhi\")\n",
    "loader"
   ]
  },
  {
   "cell_type": "code",
   "execution_count": 13,
   "id": "6cb1a8e8",
   "metadata": {},
   "outputs": [
    {
     "data": {
      "text/plain": [
       "[Document(metadata={'source': 'https://www.britannica.com/biography/Mahatma-Gandhi', 'title': 'Mahatma Gandhi | Biography, Education, Religion, Accomplishments, Death, Gandhi Jayanti, & Facts | Britannica', 'description': 'Mahatma Gandhi (1869–1948) was an Indian lawyer, politician, social activist, and writer who became the leader of the Indian Independence Movement against British rule. He is internationally esteemed for his doctrine of nonviolent protest (satyagraha) to achieve political and social progress.', 'language': 'en'}, page_content=\"\\n\\n\\n\\n\\n\\n\\n\\n\\n\\n\\n\\n\\n\\nMahatma Gandhi | Biography, Education, Religion, Accomplishments, Death, Gandhi Jayanti, & Facts | Britannica\\n\\n\\n\\n\\n\\n\\n\\n\\n\\n\\n\\n\\n\\n\\n\\n\\n\\n\\n\\n\\n\\n\\n\\n\\n\\n\\n\\n\\n\\n\\n\\n\\n\\n\\n\\n\\n\\n\\n\\n\\n\\n\\n\\n\\n\\n\\n\\n\\n\\n\\n\\n\\n\\n\\nSearch Britannica\\n\\n\\n\\n\\n\\nClick here to search\\n\\n\\n\\n\\n\\n\\n\\n\\n\\n\\n\\nSearch Britannica\\n\\n\\n\\n\\n\\nClick here to search\\n\\n\\n\\n\\n\\n\\n\\n   SUBSCRIBE\\n\\n\\n\\n   SUBSCRIBE\\n\\n\\nLogin\\n\\nhttps://premium.britannica.com/premium-membership/?utm_source=premium&utm_medium=nav-login-box&utm_campaign=evergreen\\n\\n\\n\\n\\n\\n\\n\\n  SUBSCRIBE\\n\\n\\n\\n\\nHome\\nHistory & Society\\nScience & Tech\\nBiographies\\nAnimals & Nature\\nGeography & Travel\\nArts & Culture\\nProCon\\nMoney\\n\\n\\nGames & Quizzes\\nVideos\\nOn This Day\\nOne Good Fact\\nDictionary\\nNew Articles\\n\\nHistory & Society\\n\\nLifestyles & Social Issues\\nPhilosophy & Religion\\nPolitics, Law & Government\\nWorld History\\n\\nScience & Tech\\n\\nHealth & Medicine\\nScience\\nTechnology\\n\\nBiographies\\n\\nBrowse Biographies\\n\\nAnimals & Nature\\n\\nBirds, Reptiles & Other Vertebrates\\nBugs, Mollusks & Other Invertebrates\\nEnvironment\\nFossils & Geologic Time\\nMammals\\nPlants\\n\\nGeography & Travel\\n\\nGeography & Travel\\n\\nArts & Culture\\n\\nEntertainment & Pop Culture\\nLiterature\\nSports & Recreation\\nVisual Arts\\n\\n\\nImage Galleries\\nPodcasts\\nSummaries\\nTop Questions\\n\\n\\nBritannica Kids\\n\\n\\n\\n\\n\\n\\n\\n\\n \\nAsk the Chatbot\\n\\n Games & Quizzes\\n History & Society\\n Science & Tech\\n Biographies\\n Animals & Nature\\n Geography & Travel\\n Arts & Culture\\n ProCon\\n Money\\n Videos\\n\\n\\n\\n\\n\\n\\n\\n\\n\\n\\n\\n\\n\\n\\n\\n\\n\\n\\n\\n\\n\\n\\n\\n\\n\\n Mahatma Gandhi\\n\\n\\n\\n\\n\\n\\n\\nIntroduction & Top QuestionsYouthSojourn in England and return to IndiaYears in South AfricaEmergence as a political and social activistResistance and resultsThe religious questReturn to IndiaEmergence as nationalist leaderReturn to party leadershipThe last phasePlace in history\\n Quotes\\n References & Edit History\\n Quick Facts & Related Topics\\n\\n\\n Images, Videos & Interactives\\n\\n\\n\\n\\n\\n\\n\\n\\n\\n\\n\\n\\n\\n\\n\\n\\n\\n\\n\\n\\n\\n\\n\\n\\n\\n\\n\\n\\n\\n\\n\\n\\n\\n\\n\\n\\n\\n\\n\\n\\n\\n\\n\\n\\n\\n\\n\\n\\n\\n\\n\\n\\n\\n                        For Students\\n                    \\n\\n\\n\\n\\n\\n\\n\\nMahatma Gandhi summary\\n\\n\\n\\n\\n\\n\\n\\n\\n\\nMahatma Gandhi Timeline\\n\\n\\n\\n\\n\\n\\n\\n\\n\\nMahatma Gandhi’s Achievements\\n\\n\\n\\n\\n\\n                        Quizzes\\n                    \\n\\n\\n\\n\\n\\n\\n\\nWho Said It? Famous Quotes Quiz\\n\\n\\n\\n\\n\\n\\n\\n\\n\\nGandhi and Indian History\\n\\n\\n\\n\\n\\n\\n\\n\\n\\nExplore India Quiz\\n\\n\\n\\n\\n\\n                        Related Questions\\n                    \\n\\n  What did Gandhi try to accomplish with his activism? \\n\\n  What were Gandhi’s religious beliefs? \\n\\n  Why is Gandhi Jayanti celebrated? \\n\\n  What other social movements did Gandhi’s activism inspire? \\n\\n  What was Gandhi’s personal life like? \\n\\n\\n\\n\\n\\n\\n\\n\\n\\n\\n\\n\\n\\n\\n\\n\\n\\n\\n\\n\\n\\n\\n\\n\\n\\n\\n\\n\\n\\n\\n\\n\\n Philosophy & Religion\\n\\n\\n Religious Personages & Scholars\\n\\n\\n\\n\\n\\n\\n\\n\\n\\n\\n\\n\\n\\n\\n\\n\\n\\n\\n\\n\\n\\nMahatma Gandhi\\nMohandas Karamchand Gandhi, popularly known as the Mahatma (“Great Soul”), in London, 1931.\\n\\n(more)\\n\\n\\n\\n\\n\\n\\n\\n\\n\\n\\nMahatma Gandhi\\n\\nIndian leader\\n\\n\\n\\n\\n\\n        Quick Summary\\n    \\n\\n\\n\\n    Ask the Chatbot\\n\\t\\n\\n\\n\\n\\n\\n\\n\\n\\n\\n\\t\\n                                Print\\n                            \\n\\n\\n\\nprint\\n\\t\\t\\tPrint\\n\\t\\t\\n\\n\\t\\t\\tPlease select which sections you would like to print:\\n\\t\\t\\n\\n\\n\\nTable Of Contents\\n\\n\\n\\n\\n\\n\\n\\n\\n\\n\\n\\t\\n\\t\\t\\t\\n\\t\\t\\tCite\\n\\t\\t\\n\\n\\n\\nverifiedCite\\n\\t\\t\\n\\n\\t\\t\\tWhile every effort has been made to follow citation style rules, there may be some discrepancies.\\n\\t\\t\\tPlease refer to the appropriate style manual or other sources if you have any questions.\\n\\t\\t\\nSelect Citation Style\\n\\nMLA\\nAPA\\nChicago Manual of Style\\n\\n\\n\\n\\n\\n\\nCopy Citation\\n\\n\\n\\n\\n\\n\\n\\n\\t\\n            \\n            Share\\n        \\n\\n\\n\\n\\n\\t\\n            Share\\n        \\nShare to social media\\n\\nFacebook\\nX\\n\\nURL\\nhttps://www.britannica.com/biography/Mahatma-Gandhi\\n\\n\\n\\n\\n\\n\\n\\t\\n                        Feedback\\n                    \\n\\n\\n\\n\\n\\t\\n                        External Websites\\n                    \\n\\n\\n\\n\\n\\n\\t\\t\\tFeedback\\n\\t\\t\\n\\n\\n\\t\\t\\t\\tCorrections? Updates? Omissions? Let us know if you have suggestions to improve this article (requires login).\\n\\t\\t\\t\\n\\nFeedback Type\\n\\nSelect a type (Required)\\nFactual Correction\\nSpelling/Grammar Correction\\nLink Correction\\nAdditional Information\\nOther\\n\\n\\nYour Feedback\\n\\nSubmit Feedback\\n\\n\\nThank you for your feedback\\nOur editors will review what you’ve submitted and determine whether to revise the article.\\n\\n\\n\\n\\n\\n\\n                    External Websites\\n                \\n\\n\\nCultural India - History of India - Biography of Mahatma Gandhi\\nIndiaNetzone - Biography of Mahatma Gandhi\\nInternational Journal of Novel Research and Development - Gandhiji and Poona pact: A critical appraisal (PDF)\\nBombay Sarvodaya Centre - Gandhi Book Centre - Mahatma Gandhi\\nInternational Journal of Professional Development - Mahatma Gandhi and the Non-Cooperation Movementb (PDF)\\nStanford University - The Martin Luther King, Jr., Research and Education Institute - Mohandas K. Gandhi\\nMapsofIndia.com - Mahatma Gandhi Biography\\nUCLA Social Sciences - Mahatma Gandhi\\nSouth African History Online - Biography of Mohandas Karamchand Gandhi\\nThe Nobel Prize - Mahatma Gandhi, the missing laureate\\n\\n\\nBritannica Websites\\nArticles from Britannica Encyclopedias for elementary and high school students.\\n\\nMahatma Gandhi - Children's Encyclopedia (Ages 8-11)\\nMahatma Gandhi - Student Encyclopedia (Ages 11 and up)\\n\\n\\n\\n\\n\\n\\n\\n        Quick Summary\\n    \\n\\n    Ask the Chatbot a Question\\n\\t\\nAlso known as: Mohandas Karamchand Gandhi\\n\\n\\n\\n\\n\\nWritten by\\n\\nWritten by\\n\\n\\n\\nB.R. Nanda\\nFormer Director, Nehru Memorial Museum and Library, New Delhi. Author of Mahatma Gandhi: A Biography and others.\\n\\n\\n\\n\\n  B.R. Nanda\\n\\n\\n\\n\\nFact-checked by\\n\\nFact-checked by \\n\\nThe Editors of Encyclopaedia Britannica\\nEncyclopaedia Britannica's editors oversee subject areas in which they have extensive knowledge, whether from years of experience gained by working on that content or via study for an advanced degree....\\n\\n\\n\\n\\n  The Editors of Encyclopaedia Britannica\\n\\n\\n\\n\\n                Last Updated: \\n\\n\\n\\n\\n\\n\\n\\n\\n\\n\\n\\n\\n\\n\\n\\n\\n\\n\\n\\n\\n\\n\\n\\n\\n\\n\\n\\n\\n\\n\\n\\n\\n\\n\\nOct. 3, 2025\\n\\n•Article History\\n\\n\\n\\n\\n\\t\\n\\t\\t\\t\\tTable of Contents\\n\\t\\t\\n\\n\\n\\n\\t\\n\\t\\t\\t\\tTable of Contents\\n\\t\\t\\n\\n        Quick Summary\\n    \\n\\n    Ask the Chatbot a Question\\n\\t\\n\\n\\n\\n\\t\\t\\t\\tQuick Facts\\n\\n\\n\\n\\nByname of: \\nMohandas Karamchand Gandhi\\n\\n\\n(Show\\xa0more)\\n\\n\\n\\n\\n\\n\\nBorn: \\nOctober 2, 1869, Porbandar, India\\n\\n\\n(Show\\xa0more)\\n\\n\\n\\n\\n\\n\\nDied: \\nJanuary 30, 1948, Delhi (aged  78)\\n\\n\\n(Show\\xa0more)\\n\\n\\n\\n\\n\\n\\nPolitical Affiliation: \\nIndian National Congress\\n\\n\\n(Show\\xa0more)\\n\\n\\n\\n\\n\\n\\nNotable Family Members: \\nspouse Kasturba Gandhi\\n\\n\\n(Show\\xa0more)\\n\\n\\n\\n\\n\\n\\nRole In: \\nBritish raj\\nJallianwala Bagh Massacre\\nPoona Pact\\nRound Table Conference\\nSalt March\\nnoncooperation movement\\n\\n\\n(Show\\xa0more)\\n\\n\\n\\n\\n\\t\\t\\t\\t\\t\\t\\t\\tSee all related content\\n\\t\\t\\t\\t\\t\\t\\t\\n\\n\\n\\n\\n Show More\\n\\n\\n\\n\\t\\t\\t\\tTop Questions\\n\\t\\t\\t  What was Gandhi’s role in India’s independence?  Mahatma Gandhi was one of the preeminent leaders of the Indian Independence Movement. He organized mass campaigns including the Salt March, Quit India Movement, and noncooperation movement to disrupt British rule and press for self-governance.   What is Gandhi best known for?  Mahatma Gandhi is best known for leading the Indian Independence Movement through nonviolent resistance (satyagraha). He hoped to achieve political and social progress through the practice of satyagraha and became internationally esteemed for his peaceful protest methods.   What did Gandhi try to accomplish with his activism?  Initially, Mahatma Gandhi’s campaigns sought to combat the second-class status Indians received at the hands of the British regime. Eventually, however, their focus turned to bucking the British regime altogether, a goal that was attained in the years directly after World War II. The victory was marred by the fact that sectarian violence in India between Hindus and Muslims necessitated the creation of two independent states—India and Pakistan—as opposed to a single unified India.   What were Gandhi’s religious beliefs?  Mahatma Gandhi’s family practiced a kind of Vaishnavism, one of the major traditions within Hinduism, that was inflected through the morally rigorous tenets of Jainism—an Indian faith for which concepts such as asceticism and nonviolence are important. Many of the beliefs that characterized Gandhi’s spiritual outlook later in life may have originated in his upbringing. However, his understanding of faith was constantly evolving as he encountered new belief systems. Leo Tolstoy’s analysis of Christian theology, for example, came to bear heavily on Gandhi’s conception of spirituality, as did texts such as the Bible and the Qurʾān, and he first read the Bhagavad Gita—a Hindu epic—in its English translation while living in Britain.   How did Gandhi die?  Mahatma Gandhi was assassinated on January 30, 1948, in Delhi. He was on his way to an evening prayer meeting when Nathuram Godse, a young Hindu fanatic, shot him at close range.   Why is Gandhi Jayanti celebrated?  India observes Mahatma Gandhi’s birth anniversary on October 2 as Gandhi Jayanti. The day is designated as a national holiday, on which educational institutes, government offices, and most businesses are closed. Prayer meetings are held at various places across the country, and people pay tribute at Raj Ghat in New Delhi, where Gandhi was cremated. The United Nations has declared the day as the International Day of Non-Violence in Gandhi’s honor.   What other social movements did Gandhi’s activism inspire?  Within India, Mahatma Gandhi’s philosophy lived on in the messages of reformers such as Vinoba Bhave. Abroad, activists such as Martin Luther King, Jr., borrowed heavily from Gandhi’s practice of nonviolence and civil disobedience to achieve their own social equality aims. Perhaps most impactful of all, the freedom that Gandhi’s movement won for India sounded a death knell for Britain’s other colonial enterprises in Asia and Africa. Independence movements swept through them like wildfire, with Gandhi’s influence bolstering existing movements and igniting new ones.   What was Gandhi’s personal life like?  Mahatma Gandhi’s father was a local government official working under the suzerainty of the British raj, and his mother was a religious devotee who—like the rest of the family—practiced in the Vaishnavist tradition of Hinduism. Gandhi married his wife, Kasturba, when he was 13, and together they had five children (their firstborn died shortly after birth). His family stayed in India while Gandhi went to London in 1888 to study law and to South Africa in 1893 to practice it. He brought them to South Africa in 1897, where Kasturba would assist him in his activism, which she continued to do after the family moved back to India in 1915.   What were contemporary opinions of Gandhi?  As lauded a figure as Mahatma Gandhi has become, his actions and beliefs didn’t escape the criticism of his contemporaries. Liberal politicians thought he was proposing too much change too quickly, while young radicals lambasted him for not proposing enough. Muslim leaders suspected him of lacking evenhandedness when dealing with Muslims, and his own Hindu religious community and Dalits (formerly called “untouchables”) thought him disingenuous in his apparent intention to abolish the caste system. He cut a controversial figure outside India as well, although for different reasons. The English—as India’s colonizers—harbored some resentment toward him, as he toppled one of the first dominoes in their global imperial regime. But the image of Gandhi that has lasted is one that foregrounds his dogged fight against the oppressive forces of racism and colonialism and his commitment to nonviolence. \\n\\n\\n\\t\\t\\t\\tNews •\\n\\n\\nRare book on Mahatma Gandhi featuring Einstein’s signed quote surfaces in Kerala\\n\\n• Oct. 2, 2025, 8:24 AM ET (The Hindu)\\n\\n\\t\\t\\n\\t\\t\\t\\n...(Show more)\\n\\n\\n\\n\\n\\n\\nCongress reminds PM Modi of Sardar Patel's observations on RSS\\n\\n• Oct. 2, 2025, 4:33 AM ET (The Hindu)\\n\\n\\t\\t\\n\\t\\n\\n\\nPresident Murmu, PM Modi pay homage to Gandhi, Shastri on birth anniversary\\n\\n• Oct. 2, 2025, 3:37 AM ET (The Hindu)\\n\\n\\t\\t\\n\\t\\n\\n\\nPresident Murmu, PM Modi, State CMs and other leaders pay homage to Gandhi, Shastri on birth anniversary\\n\\n• Oct. 2, 2025, 12:50 AM ET (The Hindu)\\n\\n\\t\\t\\n\\t\\n\\n\\nU.K. police investigate ‘racially aggravated’ vandalism of Gandhi statue in London\\n\\n• Sep. 30, 2025, 11:36 PM ET (The Hindu)\\n\\n\\t\\t\\n\\t\\n\\n\\n\\t\\t\\t\\tShow less \\n\\n\\nMahatma Gandhi (born October 2, 1869, Porbandar, India—died January 30, 1948, Delhi) was an Indian lawyer, politician, social activist, and writer who became the leader of the Indian Independence Movement against British rule. As such, he came to be considered “the father of the nation.” Gandhi is internationally esteemed for his doctrine of nonviolent protest (satyagraha) to achieve political and social progress.In the eyes of millions of his fellow Indians, Gandhi was the Mahatma (“Great Soul”). The adoration of the huge crowds that gathered to see him all along the route of his tours made them a severe ordeal; he could hardly work during the day or rest at night. “The woes of the Mahatmas,” he wrote, “are known only to the Mahatmas.” His fame spread worldwide during his lifetime and only increased after his death. The name Mahatma Gandhi is now one of the most universally recognized on earth.  Youth Gandhi was the youngest child of his father’s fourth wife. His father—Karamchand Gandhi, who was the dewan (chief minister) of Porbandar, the capital of a small principality in western India (in what is now Gujarat state) under British suzerainty—did not have much in the way of a formal education. He was, however, an able administrator who knew how to steer his way between the capricious princes, their long-suffering subjects, and the headstrong British political officers in power. Gandhi’s mother, Putlibai, was completely absorbed in religion, did not care much for finery or jewelry, divided her time between her home and the temple, fasted frequently, and wore herself out in days and nights of nursing whenever there was sickness in the family. Mohandas grew up in a home steeped in Vaishnavism—worship of the Hindu god Vishnu—with a strong tinge of Jainism, a morally rigorous Indian religion whose chief tenets are nonviolence and the belief that everything in the universe is eternal. Thus, he took for granted ahimsa (noninjury to all living beings), vegetarianism, fasting for self-purification, and mutual tolerance between adherents of various creeds and sects. The educational facilities at Porbandar were rudimentary; in the primary school that Mohandas attended, the children wrote the alphabet in the dust with their fingers. Luckily for him, his father became dewan of Rajkot, another princely state. Though Mohandas occasionally won prizes and scholarships at the local schools, his record was on the whole mediocre. One of the terminal reports rated him as “good at English, fair in Arithmetic and weak in Geography; conduct very good, bad handwriting.” He was married at the age of 13 and thus lost a year at school. A diffident child, he shone neither in the classroom nor on the playing field. He loved to go out on long solitary walks when he was not nursing his by then ailing father (who died soon thereafter) or helping his mother with her household chores.\\n\\n\\nBritannica Quiz\\nWho Said It? Famous Quotes Quiz\\n\\n He had learned, in his words, “to carry out the orders of the elders, not to scan them.” With such extreme passivity, it is not surprising that he should have gone through a phase of adolescent rebellion, marked by secret atheism, petty thefts, furtive smoking, and—most shocking of all for a boy born in a Vaishnava family—meat eating. His adolescence was probably no stormier than that of most children of his age and class. What was extraordinary was the way his youthful transgressions ended. “Never again” was his promise to himself after each escapade. And he kept his promise. Beneath an unprepossessing exterior, he concealed a burning passion for self-improvement that led him to take even the heroes of Hindu mythology, such as Prahlada and Harishcandra—legendary embodiments of truthfulness and sacrifice—as living models.\\n\\n\\n\\n\\n\\n\\n\\nAccess for the whole family!\\nBundle Britannica Premium and Kids for the ultimate resource destination.\\n\\n\\nSubscribe\\n\\n\\n\\n In 1887 Mohandas scraped through the matriculation examination of the University of Bombay (now University of Mumbai) and joined Samaldas College in Bhavnagar (Bhaunagar). As he had to suddenly switch from his native language—Gujarati—to English, he found it rather difficult to follow the lectures.\\n Meanwhile, his family was debating his future. Left to himself, he would have liked to have been a doctor. But, besides the Vaishnava prejudice against vivisection, it was clear that, if he was to keep up the family tradition of holding high office in one of the states in Gujarat, he would have to qualify as a barrister. That meant a visit to England, and Mohandas, who was not too happy at Samaldas College, jumped at the proposal. His youthful imagination conceived England as “a land of philosophers and poets, the very centre of civilization.” But there were several hurdles to be crossed before the visit to England could be realized. His father had left the family little property; moreover, his mother was reluctant to expose her youngest child to unknown temptations and dangers in a distant land. But Mohandas was determined to visit England. One of his brothers raised the necessary money, and his mother’s doubts were allayed when he took a vow that, while away from home, he would not touch wine, women, or meat. Mohandas disregarded the last obstacle—the decree of the leaders of the Modh Bania subcaste (Vaishya caste), to which the Gandhis belonged, who forbade his trip to England as a violation of the Hindu religion—and sailed in September 1888. Ten days after his arrival, he joined the Inner Temple, one of the four London law colleges (The Temple).  \\n\\n\\n\\n\\n\\n\\n\\n\\n\\n\\n\\n\\n\\n\\n\\n\\n\\n\\n\\n\\n\\n\\n\\n\\n\\n\\n\\n\\n\\n\\n\")]"
      ]
     },
     "execution_count": 13,
     "metadata": {},
     "output_type": "execute_result"
    }
   ],
   "source": [
    "docs = loader.load()\n",
    "docs"
   ]
  },
  {
   "cell_type": "code",
   "execution_count": 14,
   "id": "e974ed1f",
   "metadata": {},
   "outputs": [
    {
     "data": {
      "text/plain": [
       "[Document(metadata={'source': 'https://www.britannica.com/biography/Mahatma-Gandhi', 'title': 'Mahatma Gandhi | Biography, Education, Religion, Accomplishments, Death, Gandhi Jayanti, & Facts | Britannica', 'description': 'Mahatma Gandhi (1869–1948) was an Indian lawyer, politician, social activist, and writer who became the leader of the Indian Independence Movement against British rule. He is internationally esteemed for his doctrine of nonviolent protest (satyagraha) to achieve political and social progress.', 'language': 'en'}, page_content='Mahatma Gandhi | Biography, Education, Religion, Accomplishments, Death, Gandhi Jayanti, & Facts | Britannica\\n\\n\\n\\n\\n\\n\\n\\n\\n\\n\\n\\n\\n\\n\\n\\n\\n\\n\\n\\n\\n\\n\\n\\n\\n\\n\\n\\n\\n\\n\\n\\n\\n\\n\\n\\n\\n\\n\\n\\n\\n\\n\\n\\n\\n\\n\\n\\n\\n\\n\\n\\n\\n\\n\\nSearch Britannica\\n\\n\\n\\n\\n\\nClick here to search\\n\\n\\n\\n\\n\\n\\n\\n\\n\\n\\n\\nSearch Britannica\\n\\n\\n\\n\\n\\nClick here to search\\n\\n\\n\\n\\n\\n\\n\\n   SUBSCRIBE\\n\\n\\n\\n   SUBSCRIBE\\n\\n\\nLogin\\n\\nhttps://premium.britannica.com/premium-membership/?utm_source=premium&utm_medium=nav-login-box&utm_campaign=evergreen\\n\\n\\n\\n\\n\\n\\n\\n  SUBSCRIBE\\n\\n\\n\\n\\nHome\\nHistory & Society\\nScience & Tech\\nBiographies\\nAnimals & Nature\\nGeography & Travel\\nArts & Culture\\nProCon\\nMoney\\n\\n\\nGames & Quizzes\\nVideos\\nOn This Day\\nOne Good Fact\\nDictionary\\nNew Articles\\n\\nHistory & Society\\n\\nLifestyles & Social Issues\\nPhilosophy & Religion\\nPolitics, Law & Government\\nWorld History\\n\\nScience & Tech\\n\\nHealth & Medicine\\nScience\\nTechnology\\n\\nBiographies\\n\\nBrowse Biographies\\n\\nAnimals & Nature\\n\\nBirds, Reptiles & Other Vertebrates\\nBugs, Mollusks & Other Invertebrates\\nEnvironment\\nFossils & Geologic Time\\nMammals\\nPlants'),\n",
       " Document(metadata={'source': 'https://www.britannica.com/biography/Mahatma-Gandhi', 'title': 'Mahatma Gandhi | Biography, Education, Religion, Accomplishments, Death, Gandhi Jayanti, & Facts | Britannica', 'description': 'Mahatma Gandhi (1869–1948) was an Indian lawyer, politician, social activist, and writer who became the leader of the Indian Independence Movement against British rule. He is internationally esteemed for his doctrine of nonviolent protest (satyagraha) to achieve political and social progress.', 'language': 'en'}, page_content='Biographies\\n\\nBrowse Biographies\\n\\nAnimals & Nature\\n\\nBirds, Reptiles & Other Vertebrates\\nBugs, Mollusks & Other Invertebrates\\nEnvironment\\nFossils & Geologic Time\\nMammals\\nPlants\\n\\nGeography & Travel\\n\\nGeography & Travel\\n\\nArts & Culture\\n\\nEntertainment & Pop Culture\\nLiterature\\nSports & Recreation\\nVisual Arts\\n\\n\\nImage Galleries\\nPodcasts\\nSummaries\\nTop Questions\\n\\n\\nBritannica Kids\\n\\n\\n\\n\\n\\n\\n\\n\\n \\nAsk the Chatbot\\n\\n Games & Quizzes\\n History & Society\\n Science & Tech\\n Biographies\\n Animals & Nature\\n Geography & Travel\\n Arts & Culture\\n ProCon\\n Money\\n Videos\\n\\n\\n\\n\\n\\n\\n\\n\\n\\n\\n\\n\\n\\n\\n\\n\\n\\n\\n\\n\\n\\n\\n\\n\\n\\n Mahatma Gandhi\\n\\n\\n\\n\\n\\n\\n\\nIntroduction & Top QuestionsYouthSojourn in England and return to IndiaYears in South AfricaEmergence as a political and social activistResistance and resultsThe religious questReturn to IndiaEmergence as nationalist leaderReturn to party leadershipThe last phasePlace in history\\n Quotes\\n References & Edit History\\n Quick Facts & Related Topics\\n\\n\\n Images, Videos & Interactives'),\n",
       " Document(metadata={'source': 'https://www.britannica.com/biography/Mahatma-Gandhi', 'title': 'Mahatma Gandhi | Biography, Education, Religion, Accomplishments, Death, Gandhi Jayanti, & Facts | Britannica', 'description': 'Mahatma Gandhi (1869–1948) was an Indian lawyer, politician, social activist, and writer who became the leader of the Indian Independence Movement against British rule. He is internationally esteemed for his doctrine of nonviolent protest (satyagraha) to achieve political and social progress.', 'language': 'en'}, page_content='Images, Videos & Interactives\\n\\n\\n\\n\\n\\n\\n\\n\\n\\n\\n\\n\\n\\n\\n\\n\\n\\n\\n\\n\\n\\n\\n\\n\\n\\n\\n\\n\\n\\n\\n\\n\\n\\n\\n\\n\\n\\n\\n\\n\\n\\n\\n\\n\\n\\n\\n\\n\\n\\n\\n\\n\\n\\n                        For Students\\n                    \\n\\n\\n\\n\\n\\n\\n\\nMahatma Gandhi summary\\n\\n\\n\\n\\n\\n\\n\\n\\n\\nMahatma Gandhi Timeline\\n\\n\\n\\n\\n\\n\\n\\n\\n\\nMahatma Gandhi’s Achievements\\n\\n\\n\\n\\n\\n                        Quizzes\\n                    \\n\\n\\n\\n\\n\\n\\n\\nWho Said It? Famous Quotes Quiz\\n\\n\\n\\n\\n\\n\\n\\n\\n\\nGandhi and Indian History\\n\\n\\n\\n\\n\\n\\n\\n\\n\\nExplore India Quiz\\n\\n\\n\\n\\n\\n                        Related Questions\\n                    \\n\\n  What did Gandhi try to accomplish with his activism? \\n\\n  What were Gandhi’s religious beliefs? \\n\\n  Why is Gandhi Jayanti celebrated? \\n\\n  What other social movements did Gandhi’s activism inspire? \\n\\n  What was Gandhi’s personal life like? \\n\\n\\n\\n\\n\\n\\n\\n\\n\\n\\n\\n\\n\\n\\n\\n\\n\\n\\n\\n\\n\\n\\n\\n\\n\\n\\n\\n\\n\\n\\n\\n\\n Philosophy & Religion\\n\\n\\n Religious Personages & Scholars\\n\\n\\n\\n\\n\\n\\n\\n\\n\\n\\n\\n\\n\\n\\n\\n\\n\\n\\n\\n\\n\\nMahatma Gandhi\\nMohandas Karamchand Gandhi, popularly known as the Mahatma (“Great Soul”), in London, 1931.\\n\\n(more)\\n\\n\\n\\n\\n\\n\\n\\n\\n\\n\\nMahatma Gandhi\\n\\nIndian leader'),\n",
       " Document(metadata={'source': 'https://www.britannica.com/biography/Mahatma-Gandhi', 'title': 'Mahatma Gandhi | Biography, Education, Religion, Accomplishments, Death, Gandhi Jayanti, & Facts | Britannica', 'description': 'Mahatma Gandhi (1869–1948) was an Indian lawyer, politician, social activist, and writer who became the leader of the Indian Independence Movement against British rule. He is internationally esteemed for his doctrine of nonviolent protest (satyagraha) to achieve political and social progress.', 'language': 'en'}, page_content='Mahatma Gandhi\\nMohandas Karamchand Gandhi, popularly known as the Mahatma (“Great Soul”), in London, 1931.\\n\\n(more)\\n\\n\\n\\n\\n\\n\\n\\n\\n\\n\\nMahatma Gandhi\\n\\nIndian leader\\n\\n\\n\\n\\n\\n        Quick Summary\\n    \\n\\n\\n\\n    Ask the Chatbot\\n\\t\\n\\n\\n\\n\\n\\n\\n\\n\\n\\n\\t\\n                                Print\\n                            \\n\\n\\n\\nprint\\n\\t\\t\\tPrint\\n\\t\\t\\n\\n\\t\\t\\tPlease select which sections you would like to print:\\n\\t\\t\\n\\n\\n\\nTable Of Contents\\n\\n\\n\\n\\n\\n\\n\\n\\n\\n\\n\\t\\n\\t\\t\\t\\n\\t\\t\\tCite\\n\\t\\t\\n\\n\\n\\nverifiedCite\\n\\t\\t\\n\\n\\t\\t\\tWhile every effort has been made to follow citation style rules, there may be some discrepancies.\\n\\t\\t\\tPlease refer to the appropriate style manual or other sources if you have any questions.\\n\\t\\t\\nSelect Citation Style\\n\\nMLA\\nAPA\\nChicago Manual of Style\\n\\n\\n\\n\\n\\n\\nCopy Citation\\n\\n\\n\\n\\n\\n\\n\\n\\t\\n            \\n            Share\\n        \\n\\n\\n\\n\\n\\t\\n            Share\\n        \\nShare to social media\\n\\nFacebook\\nX\\n\\nURL\\nhttps://www.britannica.com/biography/Mahatma-Gandhi\\n\\n\\n\\n\\n\\n\\n\\t\\n                        Feedback'),\n",
       " Document(metadata={'source': 'https://www.britannica.com/biography/Mahatma-Gandhi', 'title': 'Mahatma Gandhi | Biography, Education, Religion, Accomplishments, Death, Gandhi Jayanti, & Facts | Britannica', 'description': 'Mahatma Gandhi (1869–1948) was an Indian lawyer, politician, social activist, and writer who became the leader of the Indian Independence Movement against British rule. He is internationally esteemed for his doctrine of nonviolent protest (satyagraha) to achieve political and social progress.', 'language': 'en'}, page_content='Share\\n        \\nShare to social media\\n\\nFacebook\\nX\\n\\nURL\\nhttps://www.britannica.com/biography/Mahatma-Gandhi\\n\\n\\n\\n\\n\\n\\n\\t\\n                        Feedback\\n                    \\n\\n\\n\\n\\n\\t\\n                        External Websites\\n                    \\n\\n\\n\\n\\n\\n\\t\\t\\tFeedback\\n\\t\\t\\n\\n\\n\\t\\t\\t\\tCorrections? Updates? Omissions? Let us know if you have suggestions to improve this article (requires login).\\n\\t\\t\\t\\n\\nFeedback Type\\n\\nSelect a type (Required)\\nFactual Correction\\nSpelling/Grammar Correction\\nLink Correction\\nAdditional Information\\nOther\\n\\n\\nYour Feedback\\n\\nSubmit Feedback\\n\\n\\nThank you for your feedback\\nOur editors will review what you’ve submitted and determine whether to revise the article.\\n\\n\\n\\n\\n\\n\\n                    External Websites'),\n",
       " Document(metadata={'source': 'https://www.britannica.com/biography/Mahatma-Gandhi', 'title': 'Mahatma Gandhi | Biography, Education, Religion, Accomplishments, Death, Gandhi Jayanti, & Facts | Britannica', 'description': 'Mahatma Gandhi (1869–1948) was an Indian lawyer, politician, social activist, and writer who became the leader of the Indian Independence Movement against British rule. He is internationally esteemed for his doctrine of nonviolent protest (satyagraha) to achieve political and social progress.', 'language': 'en'}, page_content='Submit Feedback\\n\\n\\nThank you for your feedback\\nOur editors will review what you’ve submitted and determine whether to revise the article.\\n\\n\\n\\n\\n\\n\\n                    External Websites\\n                \\n\\n\\nCultural India - History of India - Biography of Mahatma Gandhi\\nIndiaNetzone - Biography of Mahatma Gandhi\\nInternational Journal of Novel Research and Development - Gandhiji and Poona pact: A critical appraisal (PDF)\\nBombay Sarvodaya Centre - Gandhi Book Centre - Mahatma Gandhi\\nInternational Journal of Professional Development - Mahatma Gandhi and the Non-Cooperation Movementb (PDF)\\nStanford University - The Martin Luther King, Jr., Research and Education Institute - Mohandas K. Gandhi\\nMapsofIndia.com - Mahatma Gandhi Biography\\nUCLA Social Sciences - Mahatma Gandhi\\nSouth African History Online - Biography of Mohandas Karamchand Gandhi\\nThe Nobel Prize - Mahatma Gandhi, the missing laureate'),\n",
       " Document(metadata={'source': 'https://www.britannica.com/biography/Mahatma-Gandhi', 'title': 'Mahatma Gandhi | Biography, Education, Religion, Accomplishments, Death, Gandhi Jayanti, & Facts | Britannica', 'description': 'Mahatma Gandhi (1869–1948) was an Indian lawyer, politician, social activist, and writer who became the leader of the Indian Independence Movement against British rule. He is internationally esteemed for his doctrine of nonviolent protest (satyagraha) to achieve political and social progress.', 'language': 'en'}, page_content=\"Britannica Websites\\nArticles from Britannica Encyclopedias for elementary and high school students.\\n\\nMahatma Gandhi - Children's Encyclopedia (Ages 8-11)\\nMahatma Gandhi - Student Encyclopedia (Ages 11 and up)\\n\\n\\n\\n\\n\\n\\n\\n        Quick Summary\\n    \\n\\n    Ask the Chatbot a Question\\n\\t\\nAlso known as: Mohandas Karamchand Gandhi\\n\\n\\n\\n\\n\\nWritten by\\n\\nWritten by\\n\\n\\n\\nB.R. Nanda\\nFormer Director, Nehru Memorial Museum and Library, New Delhi. Author of Mahatma Gandhi: A Biography and others.\\n\\n\\n\\n\\n  B.R. Nanda\\n\\n\\n\\n\\nFact-checked by\\n\\nFact-checked by \\n\\nThe Editors of Encyclopaedia Britannica\\nEncyclopaedia Britannica's editors oversee subject areas in which they have extensive knowledge, whether from years of experience gained by working on that content or via study for an advanced degree....\\n\\n\\n\\n\\n  The Editors of Encyclopaedia Britannica\\n\\n\\n\\n\\n                Last Updated: \\n\\n\\n\\n\\n\\n\\n\\n\\n\\n\\n\\n\\n\\n\\n\\n\\n\\n\\n\\n\\n\\n\\n\\n\\n\\n\\n\\n\\n\\n\\n\\n\\n\\n\\nOct. 3, 2025\\n\\n•Article History\\n\\n\\n\\n\\n\\t\\n\\t\\t\\t\\tTable of Contents\\n\\t\\t\\n\\n\\n\\n\\t\\n\\t\\t\\t\\tTable of Contents\"),\n",
       " Document(metadata={'source': 'https://www.britannica.com/biography/Mahatma-Gandhi', 'title': 'Mahatma Gandhi | Biography, Education, Religion, Accomplishments, Death, Gandhi Jayanti, & Facts | Britannica', 'description': 'Mahatma Gandhi (1869–1948) was an Indian lawyer, politician, social activist, and writer who became the leader of the Indian Independence Movement against British rule. He is internationally esteemed for his doctrine of nonviolent protest (satyagraha) to achieve political and social progress.', 'language': 'en'}, page_content='Last Updated: \\n\\n\\n\\n\\n\\n\\n\\n\\n\\n\\n\\n\\n\\n\\n\\n\\n\\n\\n\\n\\n\\n\\n\\n\\n\\n\\n\\n\\n\\n\\n\\n\\n\\n\\nOct. 3, 2025\\n\\n•Article History\\n\\n\\n\\n\\n\\t\\n\\t\\t\\t\\tTable of Contents\\n\\t\\t\\n\\n\\n\\n\\t\\n\\t\\t\\t\\tTable of Contents\\n\\t\\t\\n\\n        Quick Summary\\n    \\n\\n    Ask the Chatbot a Question\\n\\t\\n\\n\\n\\n\\t\\t\\t\\tQuick Facts\\n\\n\\n\\n\\nByname of: \\nMohandas Karamchand Gandhi\\n\\n\\n(Show\\xa0more)\\n\\n\\n\\n\\n\\n\\nBorn: \\nOctober 2, 1869, Porbandar, India\\n\\n\\n(Show\\xa0more)\\n\\n\\n\\n\\n\\n\\nDied: \\nJanuary 30, 1948, Delhi (aged  78)\\n\\n\\n(Show\\xa0more)\\n\\n\\n\\n\\n\\n\\nPolitical Affiliation: \\nIndian National Congress\\n\\n\\n(Show\\xa0more)\\n\\n\\n\\n\\n\\n\\nNotable Family Members: \\nspouse Kasturba Gandhi\\n\\n\\n(Show\\xa0more)\\n\\n\\n\\n\\n\\n\\nRole In: \\nBritish raj\\nJallianwala Bagh Massacre\\nPoona Pact\\nRound Table Conference\\nSalt March\\nnoncooperation movement\\n\\n\\n(Show\\xa0more)\\n\\n\\n\\n\\n\\t\\t\\t\\t\\t\\t\\t\\tSee all related content\\n\\t\\t\\t\\t\\t\\t\\t\\n\\n\\n\\n\\n Show More'),\n",
       " Document(metadata={'source': 'https://www.britannica.com/biography/Mahatma-Gandhi', 'title': 'Mahatma Gandhi | Biography, Education, Religion, Accomplishments, Death, Gandhi Jayanti, & Facts | Britannica', 'description': 'Mahatma Gandhi (1869–1948) was an Indian lawyer, politician, social activist, and writer who became the leader of the Indian Independence Movement against British rule. He is internationally esteemed for his doctrine of nonviolent protest (satyagraha) to achieve political and social progress.', 'language': 'en'}, page_content='Top Questions'),\n",
       " Document(metadata={'source': 'https://www.britannica.com/biography/Mahatma-Gandhi', 'title': 'Mahatma Gandhi | Biography, Education, Religion, Accomplishments, Death, Gandhi Jayanti, & Facts | Britannica', 'description': 'Mahatma Gandhi (1869–1948) was an Indian lawyer, politician, social activist, and writer who became the leader of the Indian Independence Movement against British rule. He is internationally esteemed for his doctrine of nonviolent protest (satyagraha) to achieve political and social progress.', 'language': 'en'}, page_content='What was Gandhi’s role in India’s independence?  Mahatma Gandhi was one of the preeminent leaders of the Indian Independence Movement. He organized mass campaigns including the Salt March, Quit India Movement, and noncooperation movement to disrupt British rule and press for self-governance.   What is Gandhi best known for?  Mahatma Gandhi is best known for leading the Indian Independence Movement through nonviolent resistance (satyagraha). He hoped to achieve political and social progress through the practice of satyagraha and became internationally esteemed for his peaceful protest methods.   What did Gandhi try to accomplish with his activism?  Initially, Mahatma Gandhi’s campaigns sought to combat the second-class status Indians received at the hands of the British regime. Eventually, however, their focus turned to bucking the British regime altogether, a goal that was attained in the years directly after World War II. The victory was marred by the fact that sectarian'),\n",
       " Document(metadata={'source': 'https://www.britannica.com/biography/Mahatma-Gandhi', 'title': 'Mahatma Gandhi | Biography, Education, Religion, Accomplishments, Death, Gandhi Jayanti, & Facts | Britannica', 'description': 'Mahatma Gandhi (1869–1948) was an Indian lawyer, politician, social activist, and writer who became the leader of the Indian Independence Movement against British rule. He is internationally esteemed for his doctrine of nonviolent protest (satyagraha) to achieve political and social progress.', 'language': 'en'}, page_content='Eventually, however, their focus turned to bucking the British regime altogether, a goal that was attained in the years directly after World War II. The victory was marred by the fact that sectarian violence in India between Hindus and Muslims necessitated the creation of two independent states—India and Pakistan—as opposed to a single unified India.   What were Gandhi’s religious beliefs?  Mahatma Gandhi’s family practiced a kind of Vaishnavism, one of the major traditions within Hinduism, that was inflected through the morally rigorous tenets of Jainism—an Indian faith for which concepts such as asceticism and nonviolence are important. Many of the beliefs that characterized Gandhi’s spiritual outlook later in life may have originated in his upbringing. However, his understanding of faith was constantly evolving as he encountered new belief systems. Leo Tolstoy’s analysis of Christian theology, for example, came to bear heavily on Gandhi’s conception of spirituality, as did texts'),\n",
       " Document(metadata={'source': 'https://www.britannica.com/biography/Mahatma-Gandhi', 'title': 'Mahatma Gandhi | Biography, Education, Religion, Accomplishments, Death, Gandhi Jayanti, & Facts | Britannica', 'description': 'Mahatma Gandhi (1869–1948) was an Indian lawyer, politician, social activist, and writer who became the leader of the Indian Independence Movement against British rule. He is internationally esteemed for his doctrine of nonviolent protest (satyagraha) to achieve political and social progress.', 'language': 'en'}, page_content='was constantly evolving as he encountered new belief systems. Leo Tolstoy’s analysis of Christian theology, for example, came to bear heavily on Gandhi’s conception of spirituality, as did texts such as the Bible and the Qurʾān, and he first read the Bhagavad Gita—a Hindu epic—in its English translation while living in Britain.   How did Gandhi die?  Mahatma Gandhi was assassinated on January 30, 1948, in Delhi. He was on his way to an evening prayer meeting when Nathuram Godse, a young Hindu fanatic, shot him at close range.   Why is Gandhi Jayanti celebrated?  India observes Mahatma Gandhi’s birth anniversary on October 2 as Gandhi Jayanti. The day is designated as a national holiday, on which educational institutes, government offices, and most businesses are closed. Prayer meetings are held at various places across the country, and people pay tribute at Raj Ghat in New Delhi, where Gandhi was cremated. The United Nations has declared the day as the International Day of'),\n",
       " Document(metadata={'source': 'https://www.britannica.com/biography/Mahatma-Gandhi', 'title': 'Mahatma Gandhi | Biography, Education, Religion, Accomplishments, Death, Gandhi Jayanti, & Facts | Britannica', 'description': 'Mahatma Gandhi (1869–1948) was an Indian lawyer, politician, social activist, and writer who became the leader of the Indian Independence Movement against British rule. He is internationally esteemed for his doctrine of nonviolent protest (satyagraha) to achieve political and social progress.', 'language': 'en'}, page_content='meetings are held at various places across the country, and people pay tribute at Raj Ghat in New Delhi, where Gandhi was cremated. The United Nations has declared the day as the International Day of Non-Violence in Gandhi’s honor.   What other social movements did Gandhi’s activism inspire?  Within India, Mahatma Gandhi’s philosophy lived on in the messages of reformers such as Vinoba Bhave. Abroad, activists such as Martin Luther King, Jr., borrowed heavily from Gandhi’s practice of nonviolence and civil disobedience to achieve their own social equality aims. Perhaps most impactful of all, the freedom that Gandhi’s movement won for India sounded a death knell for Britain’s other colonial enterprises in Asia and Africa. Independence movements swept through them like wildfire, with Gandhi’s influence bolstering existing movements and igniting new ones.   What was Gandhi’s personal life like?  Mahatma Gandhi’s father was a local government official working under the suzerainty of the'),\n",
       " Document(metadata={'source': 'https://www.britannica.com/biography/Mahatma-Gandhi', 'title': 'Mahatma Gandhi | Biography, Education, Religion, Accomplishments, Death, Gandhi Jayanti, & Facts | Britannica', 'description': 'Mahatma Gandhi (1869–1948) was an Indian lawyer, politician, social activist, and writer who became the leader of the Indian Independence Movement against British rule. He is internationally esteemed for his doctrine of nonviolent protest (satyagraha) to achieve political and social progress.', 'language': 'en'}, page_content='influence bolstering existing movements and igniting new ones.   What was Gandhi’s personal life like?  Mahatma Gandhi’s father was a local government official working under the suzerainty of the British raj, and his mother was a religious devotee who—like the rest of the family—practiced in the Vaishnavist tradition of Hinduism. Gandhi married his wife, Kasturba, when he was 13, and together they had five children (their firstborn died shortly after birth). His family stayed in India while Gandhi went to London in 1888 to study law and to South Africa in 1893 to practice it. He brought them to South Africa in 1897, where Kasturba would assist him in his activism, which she continued to do after the family moved back to India in 1915.   What were contemporary opinions of Gandhi?  As lauded a figure as Mahatma Gandhi has become, his actions and beliefs didn’t escape the criticism of his contemporaries. Liberal politicians thought he was proposing too much change too quickly, while'),\n",
       " Document(metadata={'source': 'https://www.britannica.com/biography/Mahatma-Gandhi', 'title': 'Mahatma Gandhi | Biography, Education, Religion, Accomplishments, Death, Gandhi Jayanti, & Facts | Britannica', 'description': 'Mahatma Gandhi (1869–1948) was an Indian lawyer, politician, social activist, and writer who became the leader of the Indian Independence Movement against British rule. He is internationally esteemed for his doctrine of nonviolent protest (satyagraha) to achieve political and social progress.', 'language': 'en'}, page_content='a figure as Mahatma Gandhi has become, his actions and beliefs didn’t escape the criticism of his contemporaries. Liberal politicians thought he was proposing too much change too quickly, while young radicals lambasted him for not proposing enough. Muslim leaders suspected him of lacking evenhandedness when dealing with Muslims, and his own Hindu religious community and Dalits (formerly called “untouchables”) thought him disingenuous in his apparent intention to abolish the caste system. He cut a controversial figure outside India as well, although for different reasons. The English—as India’s colonizers—harbored some resentment toward him, as he toppled one of the first dominoes in their global imperial regime. But the image of Gandhi that has lasted is one that foregrounds his dogged fight against the oppressive forces of racism and colonialism and his commitment to nonviolence.'),\n",
       " Document(metadata={'source': 'https://www.britannica.com/biography/Mahatma-Gandhi', 'title': 'Mahatma Gandhi | Biography, Education, Religion, Accomplishments, Death, Gandhi Jayanti, & Facts | Britannica', 'description': 'Mahatma Gandhi (1869–1948) was an Indian lawyer, politician, social activist, and writer who became the leader of the Indian Independence Movement against British rule. He is internationally esteemed for his doctrine of nonviolent protest (satyagraha) to achieve political and social progress.', 'language': 'en'}, page_content=\"News •\\n\\n\\nRare book on Mahatma Gandhi featuring Einstein’s signed quote surfaces in Kerala\\n\\n• Oct. 2, 2025, 8:24 AM ET (The Hindu)\\n\\n\\t\\t\\n\\t\\t\\t\\n...(Show more)\\n\\n\\n\\n\\n\\n\\nCongress reminds PM Modi of Sardar Patel's observations on RSS\\n\\n• Oct. 2, 2025, 4:33 AM ET (The Hindu)\\n\\n\\t\\t\\n\\t\\n\\n\\nPresident Murmu, PM Modi pay homage to Gandhi, Shastri on birth anniversary\\n\\n• Oct. 2, 2025, 3:37 AM ET (The Hindu)\\n\\n\\t\\t\\n\\t\\n\\n\\nPresident Murmu, PM Modi, State CMs and other leaders pay homage to Gandhi, Shastri on birth anniversary\\n\\n• Oct. 2, 2025, 12:50 AM ET (The Hindu)\\n\\n\\t\\t\\n\\t\\n\\n\\nU.K. police investigate ‘racially aggravated’ vandalism of Gandhi statue in London\\n\\n• Sep. 30, 2025, 11:36 PM ET (The Hindu)\\n\\n\\t\\t\\n\\t\\n\\n\\n\\t\\t\\t\\tShow less\"),\n",
       " Document(metadata={'source': 'https://www.britannica.com/biography/Mahatma-Gandhi', 'title': 'Mahatma Gandhi | Biography, Education, Religion, Accomplishments, Death, Gandhi Jayanti, & Facts | Britannica', 'description': 'Mahatma Gandhi (1869–1948) was an Indian lawyer, politician, social activist, and writer who became the leader of the Indian Independence Movement against British rule. He is internationally esteemed for his doctrine of nonviolent protest (satyagraha) to achieve political and social progress.', 'language': 'en'}, page_content='Mahatma Gandhi (born October 2, 1869, Porbandar, India—died January 30, 1948, Delhi) was an Indian lawyer, politician, social activist, and writer who became the leader of the Indian Independence Movement against British rule. As such, he came to be considered “the father of the nation.” Gandhi is internationally esteemed for his doctrine of nonviolent protest (satyagraha) to achieve political and social progress.In the eyes of millions of his fellow Indians, Gandhi was the Mahatma (“Great Soul”). The adoration of the huge crowds that gathered to see him all along the route of his tours made them a severe ordeal; he could hardly work during the day or rest at night. “The woes of the Mahatmas,” he wrote, “are known only to the Mahatmas.” His fame spread worldwide during his lifetime and only increased after his death. The name Mahatma Gandhi is now one of the most universally recognized on earth.  Youth Gandhi was the youngest child of his father’s fourth wife. His father—Karamchand'),\n",
       " Document(metadata={'source': 'https://www.britannica.com/biography/Mahatma-Gandhi', 'title': 'Mahatma Gandhi | Biography, Education, Religion, Accomplishments, Death, Gandhi Jayanti, & Facts | Britannica', 'description': 'Mahatma Gandhi (1869–1948) was an Indian lawyer, politician, social activist, and writer who became the leader of the Indian Independence Movement against British rule. He is internationally esteemed for his doctrine of nonviolent protest (satyagraha) to achieve political and social progress.', 'language': 'en'}, page_content='only increased after his death. The name Mahatma Gandhi is now one of the most universally recognized on earth.  Youth Gandhi was the youngest child of his father’s fourth wife. His father—Karamchand Gandhi, who was the dewan (chief minister) of Porbandar, the capital of a small principality in western India (in what is now Gujarat state) under British suzerainty—did not have much in the way of a formal education. He was, however, an able administrator who knew how to steer his way between the capricious princes, their long-suffering subjects, and the headstrong British political officers in power. Gandhi’s mother, Putlibai, was completely absorbed in religion, did not care much for finery or jewelry, divided her time between her home and the temple, fasted frequently, and wore herself out in days and nights of nursing whenever there was sickness in the family. Mohandas grew up in a home steeped in Vaishnavism—worship of the Hindu god Vishnu—with a strong tinge of Jainism, a morally'),\n",
       " Document(metadata={'source': 'https://www.britannica.com/biography/Mahatma-Gandhi', 'title': 'Mahatma Gandhi | Biography, Education, Religion, Accomplishments, Death, Gandhi Jayanti, & Facts | Britannica', 'description': 'Mahatma Gandhi (1869–1948) was an Indian lawyer, politician, social activist, and writer who became the leader of the Indian Independence Movement against British rule. He is internationally esteemed for his doctrine of nonviolent protest (satyagraha) to achieve political and social progress.', 'language': 'en'}, page_content='in days and nights of nursing whenever there was sickness in the family. Mohandas grew up in a home steeped in Vaishnavism—worship of the Hindu god Vishnu—with a strong tinge of Jainism, a morally rigorous Indian religion whose chief tenets are nonviolence and the belief that everything in the universe is eternal. Thus, he took for granted ahimsa (noninjury to all living beings), vegetarianism, fasting for self-purification, and mutual tolerance between adherents of various creeds and sects. The educational facilities at Porbandar were rudimentary; in the primary school that Mohandas attended, the children wrote the alphabet in the dust with their fingers. Luckily for him, his father became dewan of Rajkot, another princely state. Though Mohandas occasionally won prizes and scholarships at the local schools, his record was on the whole mediocre. One of the terminal reports rated him as “good at English, fair in Arithmetic and weak in Geography; conduct very good, bad handwriting.” He'),\n",
       " Document(metadata={'source': 'https://www.britannica.com/biography/Mahatma-Gandhi', 'title': 'Mahatma Gandhi | Biography, Education, Religion, Accomplishments, Death, Gandhi Jayanti, & Facts | Britannica', 'description': 'Mahatma Gandhi (1869–1948) was an Indian lawyer, politician, social activist, and writer who became the leader of the Indian Independence Movement against British rule. He is internationally esteemed for his doctrine of nonviolent protest (satyagraha) to achieve political and social progress.', 'language': 'en'}, page_content='the local schools, his record was on the whole mediocre. One of the terminal reports rated him as “good at English, fair in Arithmetic and weak in Geography; conduct very good, bad handwriting.” He was married at the age of 13 and thus lost a year at school. A diffident child, he shone neither in the classroom nor on the playing field. He loved to go out on long solitary walks when he was not nursing his by then ailing father (who died soon thereafter) or helping his mother with her household chores.'),\n",
       " Document(metadata={'source': 'https://www.britannica.com/biography/Mahatma-Gandhi', 'title': 'Mahatma Gandhi | Biography, Education, Religion, Accomplishments, Death, Gandhi Jayanti, & Facts | Britannica', 'description': 'Mahatma Gandhi (1869–1948) was an Indian lawyer, politician, social activist, and writer who became the leader of the Indian Independence Movement against British rule. He is internationally esteemed for his doctrine of nonviolent protest (satyagraha) to achieve political and social progress.', 'language': 'en'}, page_content='Britannica Quiz\\nWho Said It? Famous Quotes Quiz\\n\\n He had learned, in his words, “to carry out the orders of the elders, not to scan them.” With such extreme passivity, it is not surprising that he should have gone through a phase of adolescent rebellion, marked by secret atheism, petty thefts, furtive smoking, and—most shocking of all for a boy born in a Vaishnava family—meat eating. His adolescence was probably no stormier than that of most children of his age and class. What was extraordinary was the way his youthful transgressions ended. “Never again” was his promise to himself after each escapade. And he kept his promise. Beneath an unprepossessing exterior, he concealed a burning passion for self-improvement that led him to take even the heroes of Hindu mythology, such as Prahlada and Harishcandra—legendary embodiments of truthfulness and sacrifice—as living models.\\n\\n\\n\\n\\n\\n\\n\\nAccess for the whole family!\\nBundle Britannica Premium and Kids for the ultimate resource destination.'),\n",
       " Document(metadata={'source': 'https://www.britannica.com/biography/Mahatma-Gandhi', 'title': 'Mahatma Gandhi | Biography, Education, Religion, Accomplishments, Death, Gandhi Jayanti, & Facts | Britannica', 'description': 'Mahatma Gandhi (1869–1948) was an Indian lawyer, politician, social activist, and writer who became the leader of the Indian Independence Movement against British rule. He is internationally esteemed for his doctrine of nonviolent protest (satyagraha) to achieve political and social progress.', 'language': 'en'}, page_content='Access for the whole family!\\nBundle Britannica Premium and Kids for the ultimate resource destination.\\n\\n\\nSubscribe'),\n",
       " Document(metadata={'source': 'https://www.britannica.com/biography/Mahatma-Gandhi', 'title': 'Mahatma Gandhi | Biography, Education, Religion, Accomplishments, Death, Gandhi Jayanti, & Facts | Britannica', 'description': 'Mahatma Gandhi (1869–1948) was an Indian lawyer, politician, social activist, and writer who became the leader of the Indian Independence Movement against British rule. He is internationally esteemed for his doctrine of nonviolent protest (satyagraha) to achieve political and social progress.', 'language': 'en'}, page_content='In 1887 Mohandas scraped through the matriculation examination of the University of Bombay (now University of Mumbai) and joined Samaldas College in Bhavnagar (Bhaunagar). As he had to suddenly switch from his native language—Gujarati—to English, he found it rather difficult to follow the lectures.'),\n",
       " Document(metadata={'source': 'https://www.britannica.com/biography/Mahatma-Gandhi', 'title': 'Mahatma Gandhi | Biography, Education, Religion, Accomplishments, Death, Gandhi Jayanti, & Facts | Britannica', 'description': 'Mahatma Gandhi (1869–1948) was an Indian lawyer, politician, social activist, and writer who became the leader of the Indian Independence Movement against British rule. He is internationally esteemed for his doctrine of nonviolent protest (satyagraha) to achieve political and social progress.', 'language': 'en'}, page_content='Meanwhile, his family was debating his future. Left to himself, he would have liked to have been a doctor. But, besides the Vaishnava prejudice against vivisection, it was clear that, if he was to keep up the family tradition of holding high office in one of the states in Gujarat, he would have to qualify as a barrister. That meant a visit to England, and Mohandas, who was not too happy at Samaldas College, jumped at the proposal. His youthful imagination conceived England as “a land of philosophers and poets, the very centre of civilization.” But there were several hurdles to be crossed before the visit to England could be realized. His father had left the family little property; moreover, his mother was reluctant to expose her youngest child to unknown temptations and dangers in a distant land. But Mohandas was determined to visit England. One of his brothers raised the necessary money, and his mother’s doubts were allayed when he took a vow that, while away from home, he would not'),\n",
       " Document(metadata={'source': 'https://www.britannica.com/biography/Mahatma-Gandhi', 'title': 'Mahatma Gandhi | Biography, Education, Religion, Accomplishments, Death, Gandhi Jayanti, & Facts | Britannica', 'description': 'Mahatma Gandhi (1869–1948) was an Indian lawyer, politician, social activist, and writer who became the leader of the Indian Independence Movement against British rule. He is internationally esteemed for his doctrine of nonviolent protest (satyagraha) to achieve political and social progress.', 'language': 'en'}, page_content='land. But Mohandas was determined to visit England. One of his brothers raised the necessary money, and his mother’s doubts were allayed when he took a vow that, while away from home, he would not touch wine, women, or meat. Mohandas disregarded the last obstacle—the decree of the leaders of the Modh Bania subcaste (Vaishya caste), to which the Gandhis belonged, who forbade his trip to England as a violation of the Hindu religion—and sailed in September 1888. Ten days after his arrival, he joined the Inner Temple, one of the four London law colleges (The Temple).')]"
      ]
     },
     "execution_count": 14,
     "metadata": {},
     "output_type": "execute_result"
    }
   ],
   "source": [
    "## load data ---> Docs---> divide document into chaunk document---> vecotr-->vectore Embedding----> vectorestore in DB\n",
    "\n",
    "from langchain_text_splitters import RecursiveCharacterTextSplitter\n",
    "\n",
    "text_splitter = RecursiveCharacterTextSplitter(chunk_size=1000, chunk_overlap=200)\n",
    "document  = text_splitter.split_documents(docs)\n",
    "document"
   ]
  },
  {
   "cell_type": "code",
   "execution_count": 6,
   "id": "628209eb",
   "metadata": {},
   "outputs": [
    {
     "name": "stderr",
     "output_type": "stream",
     "text": [
      "e:\\LC-basics[1]\\venv\\lib\\site-packages\\tqdm\\auto.py:21: TqdmWarning: IProgress not found. Please update jupyter and ipywidgets. See https://ipywidgets.readthedocs.io/en/stable/user_install.html\n",
      "  from .autonotebook import tqdm as notebook_tqdm\n",
      "Xet Storage is enabled for this repo, but the 'hf_xet' package is not installed. Falling back to regular HTTP download. For better performance, install the package with: `pip install huggingface_hub[hf_xet]` or `pip install hf_xet`\n",
      "e:\\LC-basics[1]\\venv\\lib\\site-packages\\huggingface_hub\\file_download.py:143: UserWarning: `huggingface_hub` cache-system uses symlinks by default to efficiently store duplicated files but your machine does not support them in C:\\Users\\ninaw\\.cache\\huggingface\\hub\\models--sentence-transformers--all-mpnet-base-v2. Caching files will still work but in a degraded version that might require more space on your disk. This warning can be disabled by setting the `HF_HUB_DISABLE_SYMLINKS_WARNING` environment variable. For more details, see https://huggingface.co/docs/huggingface_hub/how-to-cache#limitations.\n",
      "To support symlinks on Windows, you either need to activate Developer Mode or to run Python as an administrator. In order to activate developer mode, see this article: https://docs.microsoft.com/en-us/windows/apps/get-started/enable-your-device-for-development\n",
      "  warnings.warn(message)\n"
     ]
    }
   ],
   "source": [
    "from langchain_huggingface import HuggingFaceEmbeddings\n",
    "embedding = HuggingFaceEmbeddings()"
   ]
  },
  {
   "cell_type": "code",
   "execution_count": 15,
   "id": "52dd3e43",
   "metadata": {},
   "outputs": [],
   "source": [
    "from langchain_community.vectorstores import FAISS\n",
    "vecotrStoredb = FAISS.from_documents(document,embedding)"
   ]
  },
  {
   "cell_type": "code",
   "execution_count": 16,
   "id": "483f6410",
   "metadata": {},
   "outputs": [
    {
     "data": {
      "text/plain": [
       "<langchain_community.vectorstores.faiss.FAISS at 0x1a30ab57970>"
      ]
     },
     "execution_count": 16,
     "metadata": {},
     "output_type": "execute_result"
    }
   ],
   "source": [
    "# input ----> Retriever ----> vectorestoredb\n",
    "vecotrStoredb"
   ]
  },
  {
   "cell_type": "code",
   "execution_count": 17,
   "id": "f99f680d",
   "metadata": {},
   "outputs": [
    {
     "data": {
      "text/plain": [
       "'Meanwhile, his family was debating his future. Left to himself, he would have liked to have been a doctor. But, besides the Vaishnava prejudice against vivisection, it was clear that, if he was to keep up the family tradition of holding high office in one of the states in Gujarat, he would have to qualify as a barrister. That meant a visit to England, and Mohandas, who was not too happy at Samaldas College, jumped at the proposal. His youthful imagination conceived England as “a land of philosophers and poets, the very centre of civilization.” But there were several hurdles to be crossed before the visit to England could be realized. His father had left the family little property; moreover, his mother was reluctant to expose her youngest child to unknown temptations and dangers in a distant land. But Mohandas was determined to visit England. One of his brothers raised the necessary money, and his mother’s doubts were allayed when he took a vow that, while away from home, he would not'"
      ]
     },
     "execution_count": 17,
     "metadata": {},
     "output_type": "execute_result"
    }
   ],
   "source": [
    "## Query from vectorstore db\n",
    "query = \"Sojourn in England and return to India of Mahatma Gandhi\"\n",
    "result = vecotrStoredb.similarity_search(query)\n",
    "result[0].page_content"
   ]
  },
  {
   "cell_type": "code",
   "execution_count": 19,
   "id": "1d8970af",
   "metadata": {},
   "outputs": [],
   "source": [
    "from langchain_groq import ChatGroq\n",
    "llm = ChatGroq(\n",
    "    api_key=os.getenv(\"GROQ_API_KEY\"),\n",
    "    model_name=\"gemma2-9b-it\"\n",
    ")"
   ]
  },
  {
   "cell_type": "code",
   "execution_count": null,
   "id": "6d8248f9",
   "metadata": {},
   "outputs": [
    {
     "data": {
      "text/plain": [
       "RunnableBinding(bound=RunnableBinding(bound=RunnableAssign(mapper={\n",
       "  context: RunnableLambda(format_docs)\n",
       "}), kwargs={}, config={'run_name': 'format_inputs'}, config_factories=[])\n",
       "| ChatPromptTemplate(input_variables=['context', 'input'], input_types={}, partial_variables={}, messages=[SystemMessagePromptTemplate(prompt=PromptTemplate(input_variables=[], input_types={}, partial_variables={}, template='Answer the following question based only on the provided context.'), additional_kwargs={}), HumanMessagePromptTemplate(prompt=PromptTemplate(input_variables=['context', 'input'], input_types={}, partial_variables={}, template='<context>{context}</context>\\n\\nQuestion: {input}'), additional_kwargs={})])\n",
       "| ChatGroq(client=<groq.resources.chat.completions.Completions object at 0x000001A3BEB734C0>, async_client=<groq.resources.chat.completions.AsyncCompletions object at 0x000001A3BEBA1990>, model_name='gemma2-9b-it', model_kwargs={}, groq_api_key=SecretStr('**********'))\n",
       "| StrOutputParser(), kwargs={}, config={'run_name': 'stuff_documents_chain'}, config_factories=[])"
      ]
     },
     "execution_count": 20,
     "metadata": {},
     "output_type": "execute_result"
    }
   ],
   "source": [
    "## Retriver Chain , Document Chain \n",
    "# \"create_stuff_documents_chain\":=is context information given of any document \n",
    "\n",
    "from langchain.chains.combine_documents import create_stuff_documents_chain\n",
    "from langchain_core.prompts import ChatPromptTemplate\n",
    "\n",
    "prompt = ChatPromptTemplate.from_messages(\n",
    "    [\n",
    "        (\"system\", \"Answer the following question based only on the provided context.\"),\n",
    "                (\"user\", \"<context>{context}</context>\\n\\nQuestion: {input}\")\n",
    "    ]\n",
    ")\n",
    "\n",
    "document_chain = create_stuff_documents_chain(llm, prompt)  # prompt to connect with llm \"they are combine form\"\n",
    "document_chain"
   ]
  },
  {
   "cell_type": "code",
   "execution_count": 21,
   "id": "c4e5b89f",
   "metadata": {},
   "outputs": [
    {
     "data": {
      "text/plain": [
       "\"This phrase asks for information about Mahatma Gandhi's time in England and his subsequent return to India.  \\n\""
      ]
     },
     "execution_count": 21,
     "metadata": {},
     "output_type": "execute_result"
    }
   ],
   "source": [
    "from langchain_core.documents import Document\n",
    "document_chain.invoke({\n",
    "    \"input\":\"Sojourn in England and return to India of Mahatma Gandhi\",\n",
    "    \"context\":[Document(page_content=\"Sojourn in England and return to India of Mahatma Gandhi\")]\n",
    "})"
   ]
  },
  {
   "cell_type": "markdown",
   "id": "b1e62aba",
   "metadata": {},
   "source": [
    "#### Ye code ek document ko chain me pass karta hai. Chain document ke text ko context ke roop me LLM ko bhejta hai, aur phir LLM us context ke base par answer generate karke return karta hai."
   ]
  },
  {
   "cell_type": "code",
   "execution_count": 22,
   "id": "6c5f4204",
   "metadata": {},
   "outputs": [
    {
     "data": {
      "text/plain": [
       "<langchain_community.vectorstores.faiss.FAISS at 0x1a30ab57970>"
      ]
     },
     "execution_count": 22,
     "metadata": {},
     "output_type": "execute_result"
    }
   ],
   "source": [
    "### input ----> Retriever ----> vectorsotredb\n",
    "vecotrStoredb"
   ]
  },
  {
   "cell_type": "code",
   "execution_count": 23,
   "id": "733889a9",
   "metadata": {},
   "outputs": [],
   "source": [
    "retriever =vecotrStoredb.as_retriever()\n",
    "\n",
    "from langchain.chains import create_retrieval_chain\n",
    "retrieval_chain=create_retrieval_chain(retriever, document_chain)"
   ]
  },
  {
   "cell_type": "code",
   "execution_count": 24,
   "id": "d93a442a",
   "metadata": {},
   "outputs": [
    {
     "data": {
      "text/plain": [
       "RunnableBinding(bound=RunnableAssign(mapper={\n",
       "  context: RunnableBinding(bound=RunnableLambda(lambda x: x['input'])\n",
       "           | VectorStoreRetriever(tags=['FAISS', 'HuggingFaceEmbeddings'], vectorstore=<langchain_community.vectorstores.faiss.FAISS object at 0x000001A30AB57970>, search_kwargs={}), kwargs={}, config={'run_name': 'retrieve_documents'}, config_factories=[])\n",
       "})\n",
       "| RunnableAssign(mapper={\n",
       "    answer: RunnableBinding(bound=RunnableBinding(bound=RunnableAssign(mapper={\n",
       "              context: RunnableLambda(format_docs)\n",
       "            }), kwargs={}, config={'run_name': 'format_inputs'}, config_factories=[])\n",
       "            | ChatPromptTemplate(input_variables=['context', 'input'], input_types={}, partial_variables={}, messages=[SystemMessagePromptTemplate(prompt=PromptTemplate(input_variables=[], input_types={}, partial_variables={}, template='Answer the following question based only on the provided context.'), additional_kwargs={}), HumanMessagePromptTemplate(prompt=PromptTemplate(input_variables=['context', 'input'], input_types={}, partial_variables={}, template='<context>{context}</context>\\n\\nQuestion: {input}'), additional_kwargs={})])\n",
       "            | ChatGroq(client=<groq.resources.chat.completions.Completions object at 0x000001A3BEB734C0>, async_client=<groq.resources.chat.completions.AsyncCompletions object at 0x000001A3BEBA1990>, model_name='gemma2-9b-it', model_kwargs={}, groq_api_key=SecretStr('**********'))\n",
       "            | StrOutputParser(), kwargs={}, config={'run_name': 'stuff_documents_chain'}, config_factories=[])\n",
       "  }), kwargs={}, config={'run_name': 'retrieval_chain'}, config_factories=[])"
      ]
     },
     "execution_count": 24,
     "metadata": {},
     "output_type": "execute_result"
    }
   ],
   "source": [
    "retrieval_chain"
   ]
  },
  {
   "cell_type": "code",
   "execution_count": 25,
   "id": "5bff2674",
   "metadata": {},
   "outputs": [
    {
     "name": "stdout",
     "output_type": "stream",
     "text": [
      "Gandhi's family wanted him to become a barrister to uphold their tradition of holding high office in Gujarat. He desired to be a doctor but due to the Vaishnava religion's opposition to vivisection and family pressure, he chose the barrister path.\n",
      "\n",
      "He saw England as the center of civilization and was excited to go there. However, his father left little property, and his mother was worried about him facing temptations and dangers abroad.\n",
      "\n",
      "One of his brothers helped secure the funds, and Gandhi's vow to abstain from certain activities while in England eased his mother's concerns.  He was able to go to England. \n",
      "\n",
      "\n",
      "\n"
     ]
    }
   ],
   "source": [
    "### GEt the responce from the LLM\n",
    "response = retrieval_chain.invoke({\n",
    "    \"input\":\"Sojourn in England and return to India of Mahatma Gandhi\"\n",
    "})\n",
    "print(response[\"answer\"])"
   ]
  },
  {
   "cell_type": "code",
   "execution_count": 26,
   "id": "a0fff862",
   "metadata": {},
   "outputs": [
    {
     "data": {
      "text/plain": [
       "{'input': 'Sojourn in England and return to India of Mahatma Gandhi',\n",
       " 'context': [Document(id='0fcd2a6f-644c-40b4-b824-e1470c8b6edc', metadata={'source': 'https://www.britannica.com/biography/Mahatma-Gandhi', 'title': 'Mahatma Gandhi | Biography, Education, Religion, Accomplishments, Death, Gandhi Jayanti, & Facts | Britannica', 'description': 'Mahatma Gandhi (1869–1948) was an Indian lawyer, politician, social activist, and writer who became the leader of the Indian Independence Movement against British rule. He is internationally esteemed for his doctrine of nonviolent protest (satyagraha) to achieve political and social progress.', 'language': 'en'}, page_content='Meanwhile, his family was debating his future. Left to himself, he would have liked to have been a doctor. But, besides the Vaishnava prejudice against vivisection, it was clear that, if he was to keep up the family tradition of holding high office in one of the states in Gujarat, he would have to qualify as a barrister. That meant a visit to England, and Mohandas, who was not too happy at Samaldas College, jumped at the proposal. His youthful imagination conceived England as “a land of philosophers and poets, the very centre of civilization.” But there were several hurdles to be crossed before the visit to England could be realized. His father had left the family little property; moreover, his mother was reluctant to expose her youngest child to unknown temptations and dangers in a distant land. But Mohandas was determined to visit England. One of his brothers raised the necessary money, and his mother’s doubts were allayed when he took a vow that, while away from home, he would not'),\n",
       "  Document(id='7d3f206a-1c41-47f4-aa90-5c6554d3d85b', metadata={'source': 'https://www.britannica.com/biography/Mahatma-Gandhi', 'title': 'Mahatma Gandhi | Biography, Education, Religion, Accomplishments, Death, Gandhi Jayanti, & Facts | Britannica', 'description': 'Mahatma Gandhi (1869–1948) was an Indian lawyer, politician, social activist, and writer who became the leader of the Indian Independence Movement against British rule. He is internationally esteemed for his doctrine of nonviolent protest (satyagraha) to achieve political and social progress.', 'language': 'en'}, page_content='a figure as Mahatma Gandhi has become, his actions and beliefs didn’t escape the criticism of his contemporaries. Liberal politicians thought he was proposing too much change too quickly, while young radicals lambasted him for not proposing enough. Muslim leaders suspected him of lacking evenhandedness when dealing with Muslims, and his own Hindu religious community and Dalits (formerly called “untouchables”) thought him disingenuous in his apparent intention to abolish the caste system. He cut a controversial figure outside India as well, although for different reasons. The English—as India’s colonizers—harbored some resentment toward him, as he toppled one of the first dominoes in their global imperial regime. But the image of Gandhi that has lasted is one that foregrounds his dogged fight against the oppressive forces of racism and colonialism and his commitment to nonviolence.'),\n",
       "  Document(id='39754045-7400-4aab-a95d-ef199f4b3ba7', metadata={'source': 'https://www.britannica.com/biography/Mahatma-Gandhi', 'title': 'Mahatma Gandhi | Biography, Education, Religion, Accomplishments, Death, Gandhi Jayanti, & Facts | Britannica', 'description': 'Mahatma Gandhi (1869–1948) was an Indian lawyer, politician, social activist, and writer who became the leader of the Indian Independence Movement against British rule. He is internationally esteemed for his doctrine of nonviolent protest (satyagraha) to achieve political and social progress.', 'language': 'en'}, page_content='meetings are held at various places across the country, and people pay tribute at Raj Ghat in New Delhi, where Gandhi was cremated. The United Nations has declared the day as the International Day of Non-Violence in Gandhi’s honor.   What other social movements did Gandhi’s activism inspire?  Within India, Mahatma Gandhi’s philosophy lived on in the messages of reformers such as Vinoba Bhave. Abroad, activists such as Martin Luther King, Jr., borrowed heavily from Gandhi’s practice of nonviolence and civil disobedience to achieve their own social equality aims. Perhaps most impactful of all, the freedom that Gandhi’s movement won for India sounded a death knell for Britain’s other colonial enterprises in Asia and Africa. Independence movements swept through them like wildfire, with Gandhi’s influence bolstering existing movements and igniting new ones.   What was Gandhi’s personal life like?  Mahatma Gandhi’s father was a local government official working under the suzerainty of the'),\n",
       "  Document(id='a66b2ced-3ad6-4c20-96c6-fdc235a9f95b', metadata={'source': 'https://www.britannica.com/biography/Mahatma-Gandhi', 'title': 'Mahatma Gandhi | Biography, Education, Religion, Accomplishments, Death, Gandhi Jayanti, & Facts | Britannica', 'description': 'Mahatma Gandhi (1869–1948) was an Indian lawyer, politician, social activist, and writer who became the leader of the Indian Independence Movement against British rule. He is internationally esteemed for his doctrine of nonviolent protest (satyagraha) to achieve political and social progress.', 'language': 'en'}, page_content='Share\\n        \\nShare to social media\\n\\nFacebook\\nX\\n\\nURL\\nhttps://www.britannica.com/biography/Mahatma-Gandhi\\n\\n\\n\\n\\n\\n\\n\\t\\n                        Feedback\\n                    \\n\\n\\n\\n\\n\\t\\n                        External Websites\\n                    \\n\\n\\n\\n\\n\\n\\t\\t\\tFeedback\\n\\t\\t\\n\\n\\n\\t\\t\\t\\tCorrections? Updates? Omissions? Let us know if you have suggestions to improve this article (requires login).\\n\\t\\t\\t\\n\\nFeedback Type\\n\\nSelect a type (Required)\\nFactual Correction\\nSpelling/Grammar Correction\\nLink Correction\\nAdditional Information\\nOther\\n\\n\\nYour Feedback\\n\\nSubmit Feedback\\n\\n\\nThank you for your feedback\\nOur editors will review what you’ve submitted and determine whether to revise the article.\\n\\n\\n\\n\\n\\n\\n                    External Websites')],\n",
       " 'answer': \"Gandhi's family wanted him to become a barrister to uphold their tradition of holding high office in Gujarat. He desired to be a doctor but due to the Vaishnava religion's opposition to vivisection and family pressure, he chose the barrister path.\\n\\nHe saw England as the center of civilization and was excited to go there. However, his father left little property, and his mother was worried about him facing temptations and dangers abroad.\\n\\nOne of his brothers helped secure the funds, and Gandhi's vow to abstain from certain activities while in England eased his mother's concerns.  He was able to go to England. \\n\\n\\n\"}"
      ]
     },
     "execution_count": 26,
     "metadata": {},
     "output_type": "execute_result"
    }
   ],
   "source": [
    "response"
   ]
  },
  {
   "cell_type": "code",
   "execution_count": 27,
   "id": "de978ced",
   "metadata": {},
   "outputs": [
    {
     "data": {
      "text/plain": [
       "[Document(id='0fcd2a6f-644c-40b4-b824-e1470c8b6edc', metadata={'source': 'https://www.britannica.com/biography/Mahatma-Gandhi', 'title': 'Mahatma Gandhi | Biography, Education, Religion, Accomplishments, Death, Gandhi Jayanti, & Facts | Britannica', 'description': 'Mahatma Gandhi (1869–1948) was an Indian lawyer, politician, social activist, and writer who became the leader of the Indian Independence Movement against British rule. He is internationally esteemed for his doctrine of nonviolent protest (satyagraha) to achieve political and social progress.', 'language': 'en'}, page_content='Meanwhile, his family was debating his future. Left to himself, he would have liked to have been a doctor. But, besides the Vaishnava prejudice against vivisection, it was clear that, if he was to keep up the family tradition of holding high office in one of the states in Gujarat, he would have to qualify as a barrister. That meant a visit to England, and Mohandas, who was not too happy at Samaldas College, jumped at the proposal. His youthful imagination conceived England as “a land of philosophers and poets, the very centre of civilization.” But there were several hurdles to be crossed before the visit to England could be realized. His father had left the family little property; moreover, his mother was reluctant to expose her youngest child to unknown temptations and dangers in a distant land. But Mohandas was determined to visit England. One of his brothers raised the necessary money, and his mother’s doubts were allayed when he took a vow that, while away from home, he would not'),\n",
       " Document(id='7d3f206a-1c41-47f4-aa90-5c6554d3d85b', metadata={'source': 'https://www.britannica.com/biography/Mahatma-Gandhi', 'title': 'Mahatma Gandhi | Biography, Education, Religion, Accomplishments, Death, Gandhi Jayanti, & Facts | Britannica', 'description': 'Mahatma Gandhi (1869–1948) was an Indian lawyer, politician, social activist, and writer who became the leader of the Indian Independence Movement against British rule. He is internationally esteemed for his doctrine of nonviolent protest (satyagraha) to achieve political and social progress.', 'language': 'en'}, page_content='a figure as Mahatma Gandhi has become, his actions and beliefs didn’t escape the criticism of his contemporaries. Liberal politicians thought he was proposing too much change too quickly, while young radicals lambasted him for not proposing enough. Muslim leaders suspected him of lacking evenhandedness when dealing with Muslims, and his own Hindu religious community and Dalits (formerly called “untouchables”) thought him disingenuous in his apparent intention to abolish the caste system. He cut a controversial figure outside India as well, although for different reasons. The English—as India’s colonizers—harbored some resentment toward him, as he toppled one of the first dominoes in their global imperial regime. But the image of Gandhi that has lasted is one that foregrounds his dogged fight against the oppressive forces of racism and colonialism and his commitment to nonviolence.'),\n",
       " Document(id='39754045-7400-4aab-a95d-ef199f4b3ba7', metadata={'source': 'https://www.britannica.com/biography/Mahatma-Gandhi', 'title': 'Mahatma Gandhi | Biography, Education, Religion, Accomplishments, Death, Gandhi Jayanti, & Facts | Britannica', 'description': 'Mahatma Gandhi (1869–1948) was an Indian lawyer, politician, social activist, and writer who became the leader of the Indian Independence Movement against British rule. He is internationally esteemed for his doctrine of nonviolent protest (satyagraha) to achieve political and social progress.', 'language': 'en'}, page_content='meetings are held at various places across the country, and people pay tribute at Raj Ghat in New Delhi, where Gandhi was cremated. The United Nations has declared the day as the International Day of Non-Violence in Gandhi’s honor.   What other social movements did Gandhi’s activism inspire?  Within India, Mahatma Gandhi’s philosophy lived on in the messages of reformers such as Vinoba Bhave. Abroad, activists such as Martin Luther King, Jr., borrowed heavily from Gandhi’s practice of nonviolence and civil disobedience to achieve their own social equality aims. Perhaps most impactful of all, the freedom that Gandhi’s movement won for India sounded a death knell for Britain’s other colonial enterprises in Asia and Africa. Independence movements swept through them like wildfire, with Gandhi’s influence bolstering existing movements and igniting new ones.   What was Gandhi’s personal life like?  Mahatma Gandhi’s father was a local government official working under the suzerainty of the'),\n",
       " Document(id='a66b2ced-3ad6-4c20-96c6-fdc235a9f95b', metadata={'source': 'https://www.britannica.com/biography/Mahatma-Gandhi', 'title': 'Mahatma Gandhi | Biography, Education, Religion, Accomplishments, Death, Gandhi Jayanti, & Facts | Britannica', 'description': 'Mahatma Gandhi (1869–1948) was an Indian lawyer, politician, social activist, and writer who became the leader of the Indian Independence Movement against British rule. He is internationally esteemed for his doctrine of nonviolent protest (satyagraha) to achieve political and social progress.', 'language': 'en'}, page_content='Share\\n        \\nShare to social media\\n\\nFacebook\\nX\\n\\nURL\\nhttps://www.britannica.com/biography/Mahatma-Gandhi\\n\\n\\n\\n\\n\\n\\n\\t\\n                        Feedback\\n                    \\n\\n\\n\\n\\n\\t\\n                        External Websites\\n                    \\n\\n\\n\\n\\n\\n\\t\\t\\tFeedback\\n\\t\\t\\n\\n\\n\\t\\t\\t\\tCorrections? Updates? Omissions? Let us know if you have suggestions to improve this article (requires login).\\n\\t\\t\\t\\n\\nFeedback Type\\n\\nSelect a type (Required)\\nFactual Correction\\nSpelling/Grammar Correction\\nLink Correction\\nAdditional Information\\nOther\\n\\n\\nYour Feedback\\n\\nSubmit Feedback\\n\\n\\nThank you for your feedback\\nOur editors will review what you’ve submitted and determine whether to revise the article.\\n\\n\\n\\n\\n\\n\\n                    External Websites')]"
      ]
     },
     "execution_count": 27,
     "metadata": {},
     "output_type": "execute_result"
    }
   ],
   "source": [
    "response['context']"
   ]
  },
  {
   "cell_type": "code",
   "execution_count": null,
   "id": "bd04fe8d",
   "metadata": {},
   "outputs": [],
   "source": []
  }
 ],
 "metadata": {
  "kernelspec": {
   "display_name": "Python 3",
   "language": "python",
   "name": "python3"
  },
  "language_info": {
   "codemirror_mode": {
    "name": "ipython",
    "version": 3
   },
   "file_extension": ".py",
   "mimetype": "text/x-python",
   "name": "python",
   "nbconvert_exporter": "python",
   "pygments_lexer": "ipython3",
   "version": "3.10.0"
  }
 },
 "nbformat": 4,
 "nbformat_minor": 5
}
