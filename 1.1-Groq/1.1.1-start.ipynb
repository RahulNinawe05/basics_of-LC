{
 "cells": [
  {
   "cell_type": "code",
   "execution_count": null,
   "id": "4686c6f9",
   "metadata": {},
   "outputs": [],
   "source": [
    "from langchain_groq import ChatGroq\n",
    "from langsmith import Client\n",
    "import os\n",
    "from dotenv import load_dotenv\n",
    "\n",
    "load_dotenv()\n",
    "client= Client() # direct connect with DB , API, etc..."
   ]
  },
  {
   "cell_type": "code",
   "execution_count": 71,
   "id": "932115cb",
   "metadata": {},
   "outputs": [],
   "source": [
    "# dataset_name = \"Groq-Dataset\"\n",
    "# dataset = client.read_dataset(dataset_name=dataset_name)"
   ]
  },
  {
   "cell_type": "code",
   "execution_count": 72,
   "id": "3b2ddd6b",
   "metadata": {},
   "outputs": [],
   "source": [
    "llm = ChatGroq(\n",
    "    api_key=os.getenv(\"GROQ_API_KEY\"),\n",
    "    model_name=\"llama3-70b-8192\"\n",
    ")"
   ]
  },
  {
   "cell_type": "code",
   "execution_count": 73,
   "id": "066467aa",
   "metadata": {},
   "outputs": [],
   "source": [
    "question=\"What are mutable and immutable objects in Python?\"\n",
    "result = llm.invoke(question)"
   ]
  },
  {
   "cell_type": "code",
   "execution_count": 74,
   "id": "9007dbb0",
   "metadata": {},
   "outputs": [],
   "source": [
    "# client.create_example(\n",
    "#     inputs={\"question\": question},\n",
    "#     outputs={\"answer\": result},\n",
    "#     dataset_id=dataset.id\n",
    "# )"
   ]
  },
  {
   "cell_type": "markdown",
   "id": "a6277b87",
   "metadata": {},
   "source": [
    "### ChatPrompt Template"
   ]
  },
  {
   "cell_type": "code",
   "execution_count": null,
   "id": "14ec75c6",
   "metadata": {},
   "outputs": [
    {
     "data": {
      "text/plain": [
       "ChatPromptTemplate(input_variables=['input'], input_types={}, partial_variables={}, messages=[SystemMessagePromptTemplate(prompt=PromptTemplate(input_variables=[], input_types={}, partial_variables={}, template='You are tock about a maharashtra gretest king'), additional_kwargs={}), HumanMessagePromptTemplate(prompt=PromptTemplate(input_variables=['input'], input_types={}, partial_variables={}, template='{input}'), additional_kwargs={})])"
      ]
     },
     "execution_count": 89,
     "metadata": {},
     "output_type": "execute_result"
    }
   ],
   "source": [
    "# chatPromptTemplate - INPUT ----> LLM\n",
    "from langchain_core.prompts import ChatPromptTemplate\n",
    "\n",
    "prompt=ChatPromptTemplate.from_messages(\n",
    "    [\n",
    "        (\"system\", \"You are tock about a maharashtra gretest king\"),\n",
    "        (\"user\", \"{input}\")\n",
    "    ]\n",
    ")\n",
    "prompt"
   ]
  },
  {
   "cell_type": "markdown",
   "id": "7274c937",
   "metadata": {},
   "source": [
    "## Chain  \n",
    "- You can combine multipal thing like prompt,llm , custom prompt\n",
    "and how to flow this responce\n",
    "like \n",
    "- chain = prompt|llm|model|...."
   ]
  },
  {
   "cell_type": "code",
   "execution_count": null,
   "id": "b6b034ad",
   "metadata": {},
   "outputs": [
    {
     "data": {
      "text/plain": [
       "AIMessage(content=\"LangChain!\\n\\nLangChain is an open-source framework that enables the creation of large language models (LLMs) and their applications. It's a Python library that provides a modular and flexible architecture for building, training, and deploying language models, as well as integrating them with other AI systems.\\n\\nLangChain is designed to simplify the development of language-based AI applications, such as chatbots, virtual assistants, and language translation systems. It provides a range of features and tools to support the entire language model development lifecycle, from data preparation and model training to deployment and inference.\\n\\nHere are some key aspects of LangChain:\\n\\n1. **Modular Architecture**: LangChain is built using a modular architecture, which allows developers to easily swap out or replace components, such as models, tokenizers, and optimizers, to customize their language model pipeline.\\n2. **Pre-built Components**: LangChain comes with a range of pre-built components, including models, tokenizers, and datasets, which can be easily integrated into a language model pipeline.\\n3. **Customizable**: LangChain allows developers to customize their language models by adding new components, modifying existing ones, or using custom implementations.\\n4. **Scalability**: LangChain is designed to scale horizontally, making it suitable for large-scale language model training and deployment.\\n5. **Interoperability**: LangChain supports interoperability with other AI frameworks and libraries, such as TensorFlow, PyTorch, and Hugging Face Transformers.\\n\\nSome of the key benefits of using LangChain include:\\n\\n1. **Faster Development**: LangChain's modular architecture and pre-built components enable faster development and prototyping of language-based AI applications.\\n2. **Improved Customizability**: LangChain's customization options allow developers to tailor their language models to specific use cases and requirements.\\n3. **Easier Integration**: LangChain's interoperability with other AI frameworks and libraries makes it easier to integrate language models with other AI systems.\\n4. **Scalability**: LangChain's horizontal scalability enables the training and deployment of large language models.\\n\\nLangChain has a growing community of developers and users, and it's being used in a variety of applications, including chatbots, language translation systems, and text generation tools.\\n\\nIf you're interested in learning more about LangChain, I recommend checking out their GitHub repository, documentation, and community forums.\", additional_kwargs={}, response_metadata={'token_usage': {'completion_tokens': 473, 'prompt_tokens': 37, 'total_tokens': 510, 'completion_time': 1.731346021, 'prompt_time': 0.000852534, 'queue_time': 0.271190437, 'total_time': 1.732198555}, 'model_name': 'llama3-70b-8192', 'system_fingerprint': 'fp_bf16903a67', 'service_tier': 'on_demand', 'finish_reason': 'stop', 'logprobs': None}, id='run--08acf481-884b-4753-97bd-725a6048829b-0', usage_metadata={'input_tokens': 37, 'output_tokens': 473, 'total_tokens': 510})"
      ]
     },
     "execution_count": 76,
     "metadata": {},
     "output_type": "execute_result"
    }
   ],
   "source": [
    "#  Chain = Ek pipeline\n",
    "chain = prompt|llm\n",
    "\n",
    "result = chain.invoke({\"input\": \"Can You tell me about langchain\"})\n",
    "result"
   ]
  },
  {
   "cell_type": "code",
   "execution_count": 77,
   "id": "6df880e0",
   "metadata": {},
   "outputs": [
    {
     "data": {
      "text/plain": [
       "langchain_core.messages.ai.AIMessage"
      ]
     },
     "execution_count": 77,
     "metadata": {},
     "output_type": "execute_result"
    }
   ],
   "source": [
    "type(result)"
   ]
  },
  {
   "cell_type": "markdown",
   "id": "6299d686",
   "metadata": {},
   "source": [
    "## Stringoutput Parser\n",
    "- to displey my response properlly\n",
    "\n",
    "                                        AIMessage(content='Hello Samantha!')  \n",
    "                                           ↓ StrOutputParser  \n",
    "                                        \"Hello Samantha!\"\n"
   ]
  },
  {
   "cell_type": "code",
   "execution_count": null,
   "id": "33bca049",
   "metadata": {},
   "outputs": [
    {
     "data": {
      "text/plain": [
       "\"You want to know about the greatest king of Maharashtra!\\n\\nMaharashtra has been home to many legendary rulers throughout history, but one name that stands out is Chhatrapati Shivaji Maharaj. He is considered the greatest king of Maharashtra and one of the most iconic figures in Indian history.\\n\\nHere are some fascinating facts about Shivaji Maharaj:\\n\\n**Early Life**: Shivaji was born on February 19, 1630, in Shivneri Fort, near Pune, Maharashtra. His father, Shahaji Bhosale, was a Maratha general who served the Sultan of Bijapur.\\n\\n**Brave and Visionary Leader**: Shivaji was a brave and visionary leader who united the Maratha people and fought against the Mughal Empire, the Sultanate of Bijapur, and the Portuguese. He was known for his guerrilla warfare tactics, which involved hit-and-run attacks, ambushes, and sabotage.\\n\\n**Establishment of the Maratha Empire**: Shivaji founded the Maratha Empire in 1674, which became one of the most powerful empires in Indian history. He established a strong administration, built a powerful army, and promoted Hindu culture and traditions.\\n\\n**Military Conquests**: Shivaji's military campaigns were highly successful, and he won many battles against the Mughal Empire, including the Battle of Purandar (1665) and the Battle of Sinhagad (1670). He also defeated the Sultan of Bijapur and the Portuguese, expanding his empire across Maharashtra and beyond.\\n\\n**Fort Builder**: Shivaji was a skilled fort builder, and his forts are still famous today. Some of his most notable forts include Raigad, Shivneri, and Pratapgad.\\n\\n**Symbol of Swaraj**: Shivaji is revered as a symbol of Swaraj (self-rule) and is celebrated as a national hero in India. He fought for independence and self-governance, inspiring future generations of Indians to fight for their freedom.\\n\\n**Legacy**: Shivaji's legacy extends beyond his military conquests and administrative skills. He promoted education, art, and culture, and his court was known for its poets, musicians, and scholars.\\n\\nIn short, Chhatrapati Shivaji Maharaj was an extraordinary leader who played a pivotal role in shaping the history of Maharashtra and India. His bravery, vision, and leadership continue to inspire people to this day.\""
      ]
     },
     "execution_count": 90,
     "metadata": {},
     "output_type": "execute_result"
    }
   ],
   "source": [
    "## Stringoutput Parser -  LLM Output → Clean String (Matlab AI ka reply clean text ban jata hai)\n",
    "\n",
    "from langchain_core.output_parsers import StrOutputParser\n",
    "output_parsor = StrOutputParser()\n",
    "\n",
    "chain = prompt|llm|output_parsor\n",
    "\n",
    "input=\"speech about a shivaji maharaj is  freedom fighter of maharashtra\"\n",
    "responce=chain.invoke({\"input\"})\n",
    "responce\n"
   ]
  },
  {
   "cell_type": "code",
   "execution_count": 82,
   "id": "451915df",
   "metadata": {},
   "outputs": [],
   "source": [
    "# client.create_example(\n",
    "#     inputs={\"question\": input},\n",
    "#     outputs={\"answer\": responce},\n",
    "#     dataset_id=dataset.id\n",
    "# )"
   ]
  }
 ],
 "metadata": {
  "kernelspec": {
   "display_name": "Python 3",
   "language": "python",
   "name": "python3"
  },
  "language_info": {
   "codemirror_mode": {
    "name": "ipython",
    "version": 3
   },
   "file_extension": ".py",
   "mimetype": "text/x-python",
   "name": "python",
   "nbconvert_exporter": "python",
   "pygments_lexer": "ipython3",
   "version": "3.10.0"
  }
 },
 "nbformat": 4,
 "nbformat_minor": 5
}
