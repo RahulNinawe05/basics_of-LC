{
 "cells": [
  {
   "cell_type": "code",
   "execution_count": 1,
   "id": "4686c6f9",
   "metadata": {},
   "outputs": [],
   "source": [
    "from langchain_groq import ChatGroq\n",
    "from langsmith import Client\n",
    "import os\n",
    "from dotenv import load_dotenv\n",
    "\n",
    "load_dotenv()\n",
    "client= Client() # direct connect with DB , API, etc..."
   ]
  },
  {
   "cell_type": "code",
   "execution_count": 71,
   "id": "932115cb",
   "metadata": {},
   "outputs": [],
   "source": [
    "# dataset_name = \"Groq-Dataset\"\n",
    "# dataset = client.read_dataset(dataset_name=dataset_name)"
   ]
  },
  {
   "cell_type": "code",
   "execution_count": 4,
   "id": "3b2ddd6b",
   "metadata": {},
   "outputs": [],
   "source": [
    "llm = ChatGroq(\n",
    "    api_key=os.getenv(\"GROQ_API_KEY\"),\n",
    "    model_name=\"gemma2-9b-it\"\n",
    ")"
   ]
  },
  {
   "cell_type": "code",
   "execution_count": 6,
   "id": "066467aa",
   "metadata": {},
   "outputs": [
    {
     "data": {
      "text/plain": [
       "AIMessage(content='Let\\'s break down mutable and immutable objects in Python:\\n\\n**Immutable Objects**\\n\\n* **Meaning:** Immutable objects cannot be changed after they are created. Any operation that seems to modify an immutable object actually creates a new object with the desired changes.\\n* **Examples:**\\n    * **Numbers (int, float):**  `x = 5; x = x + 2`  creates a new integer `7`, not modifying the original `5`.\\n    * **Strings:**  `name = \"Alice\"; name[0] = \\'B\\'`  will result in an error.\\n    * **Tuples:**  `(1, 2, 3)`  cannot be altered after creation.\\n\\n**Mutable Objects**\\n\\n* **Meaning:** Mutable objects allow their contents to be changed after they are created.\\n* **Examples:**\\n    * **Lists:**  `my_list = [1, 2, 3]; my_list.append(4)` adds `4` to the end of the list.\\n    * **Dictionaries:** `person = {\"name\": \"Bob\", \"age\": 30}; person[\"age\"] = 31` updates the `age` value.\\n    * **Sets:**  `my_set = {1, 2, 3}; my_set.add(4)` adds `4` to the set.\\n\\n**Key Points**\\n\\n* **Why it matters:** Understanding mutability is crucial for avoiding unexpected behavior in your code.\\n    * **Passing by assignment:** When you pass a mutable object as an argument to a function, the function can directly modify the original object.\\n    * **Data integrity:** If you need to ensure that data remains unchanged, use immutable objects.\\n\\n**Example**\\n\\n```python\\n# Immutable:\\nname = \"Alice\"\\nprint(id(name))  # Get memory address of the string\\nname = \"Bob\"\\nprint(id(name))  # New memory address, new string object\\n\\n# Mutable:\\nnumbers = [1, 2, 3]\\nprint(id(numbers))\\nnumbers.append(4)\\nprint(id(numbers))  # Same memory address, list modified\\n```\\n\\nLet me know if you have any more questions or would like to explore specific scenarios!\\n', additional_kwargs={}, response_metadata={'token_usage': {'completion_tokens': 490, 'prompt_tokens': 18, 'total_tokens': 508, 'completion_time': 0.890909091, 'prompt_time': 0.001260671, 'queue_time': 0.258886118, 'total_time': 0.892169762}, 'model_name': 'gemma2-9b-it', 'system_fingerprint': 'fp_10c08bf97d', 'service_tier': 'on_demand', 'finish_reason': 'stop', 'logprobs': None}, id='run--5cb24b04-8706-4075-83de-cc520e26ccf0-0', usage_metadata={'input_tokens': 18, 'output_tokens': 490, 'total_tokens': 508})"
      ]
     },
     "execution_count": 6,
     "metadata": {},
     "output_type": "execute_result"
    }
   ],
   "source": [
    "question=\"What are mutable and immutable objects in Python?\"\n",
    "result = llm.invoke(question)\n",
    "result"
   ]
  },
  {
   "cell_type": "code",
   "execution_count": 74,
   "id": "9007dbb0",
   "metadata": {},
   "outputs": [],
   "source": [
    "# client.create_example(\n",
    "#     inputs={\"question\": question},\n",
    "#     outputs={\"answer\": result},\n",
    "#     dataset_id=dataset.id\n",
    "# )"
   ]
  },
  {
   "cell_type": "markdown",
   "id": "a6277b87",
   "metadata": {},
   "source": [
    "### ChatPrompt Template"
   ]
  },
  {
   "cell_type": "code",
   "execution_count": 7,
   "id": "14ec75c6",
   "metadata": {},
   "outputs": [
    {
     "data": {
      "text/plain": [
       "ChatPromptTemplate(input_variables=['input'], input_types={}, partial_variables={}, messages=[SystemMessagePromptTemplate(prompt=PromptTemplate(input_variables=[], input_types={}, partial_variables={}, template='You are talk about a maharashtra gretest king'), additional_kwargs={}), HumanMessagePromptTemplate(prompt=PromptTemplate(input_variables=['input'], input_types={}, partial_variables={}, template='{input}'), additional_kwargs={})])"
      ]
     },
     "execution_count": 7,
     "metadata": {},
     "output_type": "execute_result"
    }
   ],
   "source": [
    "# chatPromptTemplate - INPUT ----> LLM\n",
    "from langchain_core.prompts import ChatPromptTemplate\n",
    "\n",
    "prompt=ChatPromptTemplate.from_messages(\n",
    "    [\n",
    "        (\"system\", \"You are talk about a maharashtra gretest king\"),\n",
    "        (\"user\", \"{input}\")\n",
    "    ]\n",
    ")\n",
    "prompt"
   ]
  },
  {
   "cell_type": "markdown",
   "id": "7274c937",
   "metadata": {},
   "source": [
    "## Chain  \n",
    "- You can combine multipal thing like prompt,llm , custom prompt\n",
    "and how to flow this responce\n",
    "like \n",
    "- chain = prompt|llm|model|...."
   ]
  },
  {
   "cell_type": "code",
   "execution_count": 10,
   "id": "b6b034ad",
   "metadata": {},
   "outputs": [
    {
     "data": {
      "text/plain": [
       "AIMessage(content='Shivaji Maharaj, the greatest king of Maharashtra, was born in **Shivneri Fort**, near the present-day town of Junnar in Pune district, Maharashtra. \\n', additional_kwargs={}, response_metadata={'token_usage': {'completion_tokens': 37, 'prompt_tokens': 33, 'total_tokens': 70, 'completion_time': 0.067272727, 'prompt_time': 0.0015025, 'queue_time': 0.248491959, 'total_time': 0.068775227}, 'model_name': 'gemma2-9b-it', 'system_fingerprint': 'fp_10c08bf97d', 'service_tier': 'on_demand', 'finish_reason': 'stop', 'logprobs': None}, id='run--4942c707-e30e-49f0-9406-951ee51787b4-0', usage_metadata={'input_tokens': 33, 'output_tokens': 37, 'total_tokens': 70})"
      ]
     },
     "execution_count": 10,
     "metadata": {},
     "output_type": "execute_result"
    }
   ],
   "source": [
    "#  Chain = Ek pipeline\n",
    "chain = prompt|llm\n",
    "\n",
    "result = chain.invoke({\"input\": \"who is shivaji maharaj which city hi is born\"})\n",
    "result"
   ]
  },
  {
   "cell_type": "code",
   "execution_count": 11,
   "id": "6df880e0",
   "metadata": {},
   "outputs": [
    {
     "data": {
      "text/plain": [
       "langchain_core.messages.ai.AIMessage"
      ]
     },
     "execution_count": 11,
     "metadata": {},
     "output_type": "execute_result"
    }
   ],
   "source": [
    "type(result)"
   ]
  },
  {
   "cell_type": "markdown",
   "id": "6299d686",
   "metadata": {},
   "source": [
    "## Stringoutput Parser\n",
    "- to displey my response properlly\n",
    "\n",
    "                                        AIMessage(content='Hello Samantha!')  \n",
    "                                           ↓ StrOutputParser  \n",
    "                                        \"Hello Samantha!\"\n"
   ]
  },
  {
   "cell_type": "code",
   "execution_count": 12,
   "id": "33bca049",
   "metadata": {},
   "outputs": [
    {
     "data": {
      "text/plain": [
       "'Please give me more information! I need to know what you want to discuss about the greatest king of Maharashtra. \\n\\nFor example, do you want to know:\\n\\n* **Who is considered the greatest king?**  There are many influential rulers in Maharashtra\\'s history, so we need to define \"greatest\" -  by military prowess, cultural achievements, length of reign, or something else?\\n* **About a specific king?**  Do you have a particular king in mind? Tell me their name and I can share information about them.\\n* **Compare different kings?**  Are you interested in comparing the achievements of two or more kings?\\n\\nOnce you tell me what you\\'re interested in, I can give you a more helpful and insightful response! \\n\\n'"
      ]
     },
     "execution_count": 12,
     "metadata": {},
     "output_type": "execute_result"
    }
   ],
   "source": [
    "## Stringoutput Parser -  LLM Output → Clean String (Matlab AI ka reply clean text ban jata hai)\n",
    "\n",
    "from langchain_core.output_parsers import StrOutputParser\n",
    "output_parsor = StrOutputParser()\n",
    "\n",
    "chain = prompt|llm|output_parsor\n",
    "\n",
    "input=\"speech about a shivaji maharaj is  freedom fighter of maharashtra\"\n",
    "responce=chain.invoke({\"input\"})\n",
    "responce\n"
   ]
  },
  {
   "cell_type": "code",
   "execution_count": 82,
   "id": "451915df",
   "metadata": {},
   "outputs": [],
   "source": [
    "# client.create_example(\n",
    "#     inputs={\"question\": input},\n",
    "#     outputs={\"answer\": responce},\n",
    "#     dataset_id=dataset.id\n",
    "# )"
   ]
  }
 ],
 "metadata": {
  "kernelspec": {
   "display_name": "Python 3",
   "language": "python",
   "name": "python3"
  },
  "language_info": {
   "codemirror_mode": {
    "name": "ipython",
    "version": 3
   },
   "file_extension": ".py",
   "mimetype": "text/x-python",
   "name": "python",
   "nbconvert_exporter": "python",
   "pygments_lexer": "ipython3",
   "version": "3.10.0"
  }
 },
 "nbformat": 4,
 "nbformat_minor": 5
}
