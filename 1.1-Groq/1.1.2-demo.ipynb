{
 "cells": [
  {
   "cell_type": "code",
   "execution_count": 2,
   "id": "5744d996",
   "metadata": {},
   "outputs": [],
   "source": [
    "from langchain_groq import ChatGroq\n",
    "from langsmith import Client\n",
    "import os\n",
    "\n",
    "from dotenv import load_dotenv\n",
    "load_dotenv()\n",
    "\n",
    "client = Client()"
   ]
  },
  {
   "cell_type": "code",
   "execution_count": 3,
   "id": "855ab2e5",
   "metadata": {},
   "outputs": [],
   "source": [
    "\n",
    "dataeset = client.read_dataset(dataset_name=\"Chatbot-with-Langchain\")"
   ]
  },
  {
   "cell_type": "code",
   "execution_count": 6,
   "id": "c3b7b9f9",
   "metadata": {},
   "outputs": [],
   "source": [
    "from langchain_groq import ChatGroq\n",
    "llm = ChatGroq(\n",
    "    api_key=os.getenv(\"GROQ_API_KEY\"),\n",
    "    model_name=\"gemma2-9b-it\"\n",
    ")"
   ]
  },
  {
   "cell_type": "code",
   "execution_count": 12,
   "id": "1c7a5ed2",
   "metadata": {},
   "outputs": [
    {
     "data": {
      "text/plain": [
       "AIMessage(content=\"Artificial Intelligence (AI)! It's a fascinating topic that has been rapidly evolving over the past few decades. AI refers to the development of computer systems that can perform tasks that would typically require human intelligence, such as:\\n\\n1. **Learning**: AI systems can learn from data, identify patterns, and make decisions or predictions based on that data.\\n2. **Reasoning**: AI systems can draw conclusions and make decisions based on logic and rules.\\n3. **Problem-solving**: AI systems can solve complex problems and optimize solutions.\\n4. **Perception**: AI systems can interpret and understand data from sensors, such as images, speech, and text.\\n\\nThere are many types of AI, including:\\n\\n1. **Narrow or Weak AI**: Designed to perform a specific task, such as playing chess, recognizing faces, or translating languages.\\n2. **General or Strong AI**: Aims to mimic human intelligence, with the ability to reason, learn, and apply knowledge across a wide range of tasks.\\n3. **Superintelligence**: Exceeds human intelligence in many areas, potentially leading to significant societal impacts.\\n\\nAI has many applications in various industries, including:\\n\\n1. **Healthcare**: Diagnosing diseases, developing personalized medicine, and streamlining clinical workflows.\\n2. **Finance**: Analyzing financial data, detecting fraud, and optimizing investment strategies.\\n3. **Transportation**: Developing autonomous vehicles, optimizing traffic flow, and improving logistics.\\n4. **Customer Service**: Chatbots and virtual assistants that can understand and respond to customer inquiries.\\n5. **Cybersecurity**: Detecting and responding to cyber threats, and protecting sensitive data.\\n\\nSome of the key AI technologies include:\\n\\n1. **Machine Learning**: A type of AI that enables systems to learn from data without being explicitly programmed.\\n2. **Deep Learning**: A subfield of machine learning that uses neural networks to analyze data.\\n3. **Natural Language Processing (NLP)**: Enables computers to understand, interpret, and generate human language.\\n4. **Computer Vision**: Allows computers to interpret and understand visual data from images and videos.\\n\\nThe benefits of AI are numerous, including:\\n\\n1. **Increased Efficiency**: Automating repetitive tasks and freeing up human resources for more strategic activities.\\n2. **Improved Accuracy**: Reducing errors and improving the quality of decision-making.\\n3. **Enhanced Customer Experience**: Providing personalized and responsive interactions with customers.\\n4. **Innovation**: Enabling new products, services, and business models that were previously impossible.\\n\\nHowever, AI also raises important ethical and societal concerns, such as:\\n\\n1. **Job Displacement**: The potential for AI to automate jobs and displace workers.\\n2. **Bias and Discrimination**: The risk of AI systems perpetuating biases and discrimination.\\n3. **Privacy and Security**: The need to protect sensitive data and ensure the security of AI systems.\\n4. **Accountability and Transparency**: The importance of understanding how AI systems make decisions and ensuring accountability.\\n\\nAs AI continues to evolve and become more pervasive, it's essential to have a thoughtful and informed discussion about its implications and potential consequences.\", additional_kwargs={}, response_metadata={'token_usage': {'completion_tokens': 626, 'prompt_tokens': 14, 'total_tokens': 640, 'completion_time': 2.091542919, 'prompt_time': 0.000191757, 'queue_time': 0.272366616, 'total_time': 2.091734676}, 'model_name': 'llama3-70b-8192', 'system_fingerprint': 'fp_bf16903a67', 'service_tier': 'on_demand', 'finish_reason': 'stop', 'logprobs': None}, id='run--7832a00d-e257-45fa-bbcc-0e60b253d7b9-0', usage_metadata={'input_tokens': 14, 'output_tokens': 626, 'total_tokens': 640})"
      ]
     },
     "execution_count": 12,
     "metadata": {},
     "output_type": "execute_result"
    }
   ],
   "source": [
    "question = \"Tell me about AI\"\n",
    "restult = llm.invoke(question)\n",
    "restult"
   ]
  },
  {
   "cell_type": "code",
   "execution_count": 13,
   "id": "e679f5d3",
   "metadata": {},
   "outputs": [],
   "source": [
    "from langchain_core.prompts import ChatPromptTemplate\n",
    "\n",
    "prompt = ChatPromptTemplate.from_messages(\n",
    "    [\n",
    "        (\"system\", \"you have knowoldge about shivaji maharaj history\"),\n",
    "        (\"user\", \"{input}\")\n",
    "    ]\n",
    ")"
   ]
  },
  {
   "cell_type": "code",
   "execution_count": 14,
   "id": "31f7740a",
   "metadata": {},
   "outputs": [
    {
     "data": {
      "text/plain": [
       "AIMessage(content='Shivaji Maharaj! The legendary Indian king and founder of the Maratha Empire. Here\\'s a brief overview of his life and achievements:\\n\\n**Early Life:**\\n\\nShivaji Bhosale was born on February 19, 1630, in Shivneri Fort, near Pune, India, to Shahaji Bhosale and Jijabai. His father was a military commander who served the Deccan Sultanates. Shivaji was raised by his mother, who instilled in him the values of bravery, loyalty, and patriotism.\\n\\n**Rise to Power:**\\n\\nShivaji began his military career at a young age, capturing the Torna Fort in 1646. He then conquered several other forts, including Chakan, Kalyan, and Purandar, which helped him establish his own kingdom. In 1659, he defeated the Adil Shahi dynasty, which marked the beginning of the Maratha Empire.\\n\\n**Military Campaigns:**\\n\\nShivaji Maharaj is known for his military genius and innovative tactics. He introduced the concept of guerrilla warfare, using speed, surprise, and ambushes to defeat his enemies. Some of his notable military campaigns include:\\n\\n* Battle of Pratapgarh (1659): Shivaji defeated the Adil Shahi dynasty, capturing several forts and territories.\\n* Battle of Kolhapur (1659): Shivaji defeated the Bijapur Sultanate, expanding his kingdom further.\\n* Battle of Pavan Khind (1660): Shivaji escaped from the Mughal Empire\\'s forces, led by Shaista Khan, using a clever tactic.\\n\\n**Administration and Reforms:**\\n\\nShivaji Maharaj introduced several administrative and social reforms, including:\\n\\n* Establishing a strong and efficient administrative system, with a council of eight ministers (Ashtapradhan).\\n* Promoting Hinduism and Marathi culture.\\n* Encouraging education, arts, and literature.\\n* Implementing a fair and just taxation system.\\n* Providing protection to women, children, and the poor.\\n\\n**Conflict with the Mughal Empire:**\\n\\nShivaji Maharaj had several conflicts with the Mughal Empire, including Aurangzeb, who was determined to conquer the Maratha Empire. Shivaji was arrested by Aurangzeb in 1666, but he escaped and continued to fight against the Mughals.\\n\\n**Death and Legacy:**\\n\\nShivaji Maharaj died on April 3, 1680, at Raigad Fort, due to illness. He was succeeded by his son, Sambhaji. Shivaji\\'s legacy is that of a brave warrior, a skilled military strategist, and a just ruler. He is revered as a hero in Indian history, and his birthday, February 19, is celebrated as Shiv Jayanti.\\n\\nSome interesting facts about Shivaji Maharaj:\\n\\n* He was known for his bravery and cunning, earning the nickname \"Mountain Rat\" from his enemies.\\n* He was a devout Hindu and built several temples, including the famous Tulja Bhavani Temple.\\n* He encouraged the use of Marathi as the official language of the Maratha Empire.\\n* He was a patron of the arts, and his court attracted several poets, writers, and musicians.\\n\\nI hope this gives you a good overview of Shivaji Maharaj\\'s life and achievements!', additional_kwargs={}, response_metadata={'token_usage': {'completion_tokens': 683, 'prompt_tokens': 31, 'total_tokens': 714, 'completion_time': 2.7479283949999997, 'prompt_time': 0.000650539, 'queue_time': 0.27460861999999997, 'total_time': 2.748578934}, 'model_name': 'llama3-70b-8192', 'system_fingerprint': 'fp_bf16903a67', 'service_tier': 'on_demand', 'finish_reason': 'stop', 'logprobs': None}, id='run--2d74a1f5-7b6a-4bea-af0b-64a26aa1bed9-0', usage_metadata={'input_tokens': 31, 'output_tokens': 683, 'total_tokens': 714})"
      ]
     },
     "execution_count": 14,
     "metadata": {},
     "output_type": "execute_result"
    }
   ],
   "source": [
    "chain = prompt|llm\n",
    "\n",
    "input=\"Shivaji Maharaj which fort captured in this date in 1646 which fort\"\n",
    "result =chain.invoke({\"input\"})\n",
    "result"
   ]
  },
  {
   "cell_type": "code",
   "execution_count": 15,
   "id": "5a044e9b",
   "metadata": {},
   "outputs": [
    {
     "data": {
      "text/plain": [
       "'According to historical records, Shivaji Maharaj captured the Torna Fort on May 3, 1646. This was his first conquest and marked the beginning of his career as a warrior and a king.'"
      ]
     },
     "execution_count": 15,
     "metadata": {},
     "output_type": "execute_result"
    }
   ],
   "source": [
    "from langchain_core.output_parsers import StrOutputParser\n",
    "\n",
    "output_parsore = StrOutputParser()\n",
    "\n",
    "chain = prompt|llm|output_parsore\n",
    "\n",
    "restult = chain.invoke(input)\n",
    "restult"
   ]
  },
  {
   "cell_type": "code",
   "execution_count": 16,
   "id": "e83b78a5",
   "metadata": {},
   "outputs": [
    {
     "data": {
      "text/plain": [
       "<class 'langsmith.schemas.Example'>(id=f1a24dad-bcca-45e3-bf83-d2dc98370044, dataset_id=c8b12bc2-862b-4c52-9156-4dd9518627f1, link='https://smith.langchain.com/o/9c2582ce-156d-460e-9c22-7d3fba63e0a2/datasets/c8b12bc2-862b-4c52-9156-4dd9518627f1/e/f1a24dad-bcca-45e3-bf83-d2dc98370044')"
      ]
     },
     "execution_count": 16,
     "metadata": {},
     "output_type": "execute_result"
    }
   ],
   "source": [
    "client.create_example(\n",
    "    inputs={\"question\": input},\n",
    "    outputs={\"answer\": restult},\n",
    "    dataset_id=dataeset.id\n",
    ")"
   ]
  },
  {
   "cell_type": "code",
   "execution_count": 7,
   "id": "bcd141a6",
   "metadata": {},
   "outputs": [
    {
     "data": {
      "text/plain": [
       "AIMessage(content='Mahatma Gandhi, born Mohandas Karamchand Gandhi, was a pivotal figure in India\\'s struggle for independence from British rule. \\n\\nHere are some key points about him:\\n\\n* **Early Life and Influences:** Born in 1869 in India, Gandhi studied law in England and practiced in South Africa, where he witnessed and fought against racial discrimination. This experience shaped his philosophy of nonviolent resistance.\\n\\n* **Leader of India\\'s Independence Movement:** Gandhi returned to India in 1915 and became the leader of the Indian National Congress. He employed nonviolent civil disobedience, including boycotts, marches, and hunger strikes, to challenge British rule.\\n\\n* **Philosophy of Satyagraha:**  Gandhi\\'s philosophy, Satyagraha (meaning \"truth force\"), emphasized nonviolent resistance, self-suffering, and the pursuit of truth. He believed in the power of love and non-cooperation to overcome injustice.\\n\\n* **Key Campaigns:** Gandhi led numerous campaigns, including the Salt March (1930), the Quit India Movement (1942), and the No-Tax Campaign. These campaigns garnered international attention and put immense pressure on the British government.\\n\\n* **Independence and Legacy:** India gained independence in 1947, but the partition of the country into India and Pakistan led to widespread violence. Gandhi was assassinated in 1948 by a Hindu extremist opposed to his efforts for Hindu-Muslim unity.\\n\\n* **Global Impact:** Gandhi\\'s philosophy of nonviolent resistance has inspired countless movements for social justice and peace around the world, including the American Civil Rights Movement, the fight against apartheid in South Africa, and movements for democracy and human rights in various countries.\\n\\n\\nMahatma Gandhi is revered as the \"Father of India\" and is considered one of the most influential peace activists of the 20th century. His life and teachings continue to inspire people to strive for a more just and peaceful world.\\n', additional_kwargs={}, response_metadata={'token_usage': {'completion_tokens': 405, 'prompt_tokens': 18, 'total_tokens': 423, 'completion_time': 0.736363636, 'prompt_time': 0.001253, 'queue_time': 0.252338399, 'total_time': 0.737616636}, 'model_name': 'gemma2-9b-it', 'system_fingerprint': 'fp_10c08bf97d', 'service_tier': 'on_demand', 'finish_reason': 'stop', 'logprobs': None}, id='run--e6f15706-be05-45fb-9475-871ef4f09707-0', usage_metadata={'input_tokens': 18, 'output_tokens': 405, 'total_tokens': 423})"
      ]
     },
     "execution_count": 7,
     "metadata": {},
     "output_type": "execute_result"
    }
   ],
   "source": [
    "talk = \"who is MAHATMA GANDI\"\n",
    "records= llm.invoke(talk)\n",
    "records"
   ]
  },
  {
   "cell_type": "code",
   "execution_count": 8,
   "id": "e725d3a0",
   "metadata": {},
   "outputs": [],
   "source": [
    "# but i don't like a AI message ok so solution\n",
    "\n",
    "from langchain_core.output_parsers import StrOutputParser\n",
    "\n",
    "parse = StrOutputParser()\n",
    "\n",
    "# but i don't like to time to time connect with llm so,"
   ]
  },
  {
   "cell_type": "code",
   "execution_count": 9,
   "metadata": {},
   "outputs": [
    {
     "data": {
      "text/plain": [
       "'## Mahatma Gandhi: The Father of India\\n\\n**Mahatma Gandhi** (1869-1948) was a pivotal figure in India\\'s fight for independence from British rule. \\n\\nHere\\'s a glimpse into his life and legacy:\\n\\n**Early Life and Influences:**\\n\\n* Born Mohandas Karamchand Gandhi in Porbandar, India, he was raised in a Hindu family.\\n* His early life instilled in him a strong sense of justice and compassion.\\n* He studied law in England and practiced in South Africa, where he witnessed racial discrimination firsthand.\\n\\n**South Africa: The Birth of Satyagraha:**\\n\\n* In South Africa, Gandhi fought against racial segregation and injustice, developing his philosophy of **Satyagraha**, meaning \"truth force\" or \"soul force.\"\\n* Satyagraha is a nonviolent resistance movement based on truth, non-cooperation, and civil disobedience.\\n\\n**Return to India and the Independence Struggle:**\\n\\n* Returning to India in 1915, Gandhi became a leader of the Indian National Congress.\\n* He spearheaded numerous nonviolent campaigns against British rule, including the **Salt Satyagraha** in 1930, which challenged the British salt tax.\\n* Gandhi\\'s leadership and the widespread participation in these movements put immense pressure on the British government.\\n\\n**Independence and Legacy:**\\n\\n* India gained independence in 1947, largely due to Gandhi\\'s unwavering commitment to nonviolence.\\n* However, the partition of India and Pakistan led to widespread violence, deeply affecting Gandhi.\\n* He was assassinated in 1948 by a Hindu extremist opposing his efforts to promote Hindu-Muslim unity.\\n\\n**Gandhi\\'s Impact:**\\n\\n* **Global Icon of Nonviolence:** Gandhi\\'s philosophy of Satyagraha inspired countless movements for social justice and peace worldwide, including the American Civil Rights Movement.\\n* **Father of Modern India:** He is revered as the Father of India for his role in leading the nation to freedom.\\n* **Symbol of Truth and Reconciliation:** Gandhi\\'s life and teachings continue to inspire people to strive for a more just and peaceful world.\\n\\n\\nMahatma Gandhi\\'s legacy endures as a testament to the power of nonviolence, truth, and the courage to fight for justice.\\n'"
      ]
     },
     "execution_count": 9,
     "metadata": {},
     "output_type": "execute_result"
    }
   ],
   "source": [
    "chain = llm|parse\n",
    "\n",
    "entire_data =chain.invoke(talk)\n",
    "entire_data"
   ]
  },
  {
   "cell_type": "code",
   "execution_count": 19,
   "id": "f957dcd7",
   "metadata": {},
   "outputs": [],
   "source": [
    "# i like connect with chatprompt template\n",
    "\n",
    "from langchain_core.prompts import ChatPromptTemplate\n",
    "\n",
    "prompt_data = ChatPromptTemplate.from_messages(\n",
    "    [\n",
    "        ('system',\"Hey you are a Mom and Dad give me some advice,in this language {language}\"),\n",
    "        ('user', \"{input}\")\n",
    "    ]\n",
    ")"
   ]
  },
  {
   "cell_type": "code",
   "execution_count": 20,
   "id": "050f6ce3",
   "metadata": {},
   "outputs": [
    {
     "data": {
      "text/plain": [
       "'आईये बोलूया, मुलगे! तुम्हाला काय सल्ला देयचा आहे? \\n\\nआम्ही तुमच्यासारख्या मुलासाठी सर्वोत्तम आहेय का, ते येण्यासाठी तुम्ही आमच्याकडे येऊ शकता. \\n\\n\\nकदाचित आमचा अनुभव तुम्हाला मदत करेल! \\n\\n'"
      ]
     },
     "execution_count": 20,
     "metadata": {},
     "output_type": "execute_result"
    }
   ],
   "source": [
    "data = \"give me advice about life \"\n",
    "\n",
    "chain = prompt_data | llm | parse\n",
    "\n",
    "entire_data =chain.invoke({\"language\":\"marathi\", \"input\": \"data\"})\n",
    "entire_data"
   ]
  }
 ],
 "metadata": {
  "kernelspec": {
   "display_name": "Python 3",
   "language": "python",
   "name": "python3"
  },
  "language_info": {
   "codemirror_mode": {
    "name": "ipython",
    "version": 3
   },
   "file_extension": ".py",
   "mimetype": "text/x-python",
   "name": "python",
   "nbconvert_exporter": "python",
   "pygments_lexer": "ipython3",
   "version": "3.10.0"
  }
 },
 "nbformat": 4,
 "nbformat_minor": 5
}
