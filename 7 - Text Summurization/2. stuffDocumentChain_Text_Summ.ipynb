{
 "cells": [
  {
   "cell_type": "markdown",
   "id": "480fc9f7",
   "metadata": {},
   "source": [
    "## StuffDocumentChain text summarization: \n",
    "- Stuff, which simply concatenates documents into a prompt;\n",
    "- The chain will take a list of documents, insert them all into a prompt, and pass that prompt to an LLM:"
   ]
  },
  {
   "cell_type": "markdown",
   "id": "9609954f",
   "metadata": {},
   "source": []
  }
 ],
 "metadata": {
  "language_info": {
   "name": "python"
  }
 },
 "nbformat": 4,
 "nbformat_minor": 5
}
