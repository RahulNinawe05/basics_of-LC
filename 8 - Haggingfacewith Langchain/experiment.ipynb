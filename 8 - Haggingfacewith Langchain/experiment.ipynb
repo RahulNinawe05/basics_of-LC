{
 "cells": [
  {
   "cell_type": "markdown",
   "id": "128d146a",
   "metadata": {},
   "source": [
    "## Hugging Face x LangChain : A new partner package in LangChain\n",
    "- We are thrilled to announce the launch of langchain_huggingface, a partner package in LangChain jointly maintained by Hugging Face and LangChain. This new Python package is designed to bring the power of the latest development of Hugging Face into LangChain and keep it up to date.\n",
    "- link :- https://huggingface.co/blog/langchain"
   ]
  },
  {
   "cell_type": "markdown",
   "id": "cb30a78a",
   "metadata": {},
   "source": [
    "## HuggingFaceEndpoint\n",
    "- There are also two ways to use this class. You can specify the model with the repo_id parameter. Those endpoints use the **serverless** API, which is particularly beneficial to people using **pro accounts** or **enterprise** hub. Still, regular users can already have access to a fair amount of request by connecting with their HF token in the environment where they are executing the code."
   ]
  }
 ],
 "metadata": {
  "kernelspec": {
   "display_name": "Python 3",
   "language": "python",
   "name": "python3"
  },
  "language_info": {
   "codemirror_mode": {
    "name": "ipython",
    "version": 3
   },
   "file_extension": ".py",
   "mimetype": "text/x-python",
   "name": "python",
   "nbconvert_exporter": "python",
   "pygments_lexer": "ipython3",
   "version": "3.10.0"
  }
 },
 "nbformat": 4,
 "nbformat_minor": 5
}
