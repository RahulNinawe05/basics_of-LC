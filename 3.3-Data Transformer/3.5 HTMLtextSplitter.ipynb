{
 "cells": [
  {
   "cell_type": "markdown",
   "id": "a1c494fc",
   "metadata": {},
   "source": [
    "## How To Split HTML Data\n",
    "\n",
    "- A LangChain text splitter that splits HTML documents based on heading tags (h1, h2, h3...).\n",
    "- It uses BeautifulSoup to parse HTML and returns text chunks whenever it encounters specified headings.\n",
    "- It is useful for structuring documents into hierarchical sections for further processing in LLMs."
   ]
  },
  {
   "cell_type": "code",
   "execution_count": null,
   "id": "8cb28647",
   "metadata": {},
   "outputs": [
    {
     "data": {
      "text/plain": [
       "[Document(metadata={}, page_content='Heading Paragraph Image Button'),\n",
       " Document(metadata={'Header': 'Welcome to My Web Page'}, page_content='Welcome to My Web Page'),\n",
       " Document(metadata={'Header': 'Welcome to My Web Page', 'Subheader': 'Are You Join The New Amezing Seminar, For Gen-AI keep Enroll Link in The Discription'}, page_content='Are You Join The New Amezing Seminar, For Gen-AI keep Enroll Link in The Discription'),\n",
       " Document(metadata={'Header': 'Welcome to My Web Page', 'Subheader': 'Are You Join The New Amezing Seminar, For Gen-AI keep Enroll Link in The Discription'}, page_content='This is my first HTML program. I am learning how to create web pages!  \\nClick Me')]"
      ]
     },
     "execution_count": 8,
     "metadata": {},
     "output_type": "execute_result"
    }
   ],
   "source": [
    "# text splitter - website ----> HTML PAGE ko bases per todata he\n",
    "from langchain_text_splitters import HTMLHeaderTextSplitter\n",
    "\n",
    "html_string = \"\"\"\n",
    "<!DOCTYPE html>\n",
    "<html lang=\"en\">\n",
    "<head>\n",
    "    <meta charset=\"UTF-8\">\n",
    "    <meta name=\"viewport\" content=\"width=device-width, initial-scale=1.0\">\n",
    "    <title>My First HTML Page</title>\n",
    "</head>\n",
    "<body style=\"font-family: Arial, sans-serif; text-align: center;\">\n",
    "\n",
    "    <!-- Heading -->\n",
    "    <h1>Welcome to My Web Page</h1>\n",
    "    <h2>Are You Join The New Amezing Seminar, For Gen-AI keep Enroll Link in The Discription</h2>\n",
    "\n",
    "    <!-- Paragraph -->\n",
    "    <p>This is my first HTML program. I am learning how to create web pages!</p>\n",
    "\n",
    "    <!-- Image -->\n",
    "    <img src=\"https://via.placeholder.com/200\" alt=\"Sample Image\" style=\"border-radius: 10px;\">\n",
    "\n",
    "    <!-- Button -->\n",
    "    <br><br>\n",
    "    <button onclick=\"alert('Hello! You clicked the button.')\">Click Me</button>\n",
    "</body>\n",
    "</html>\n",
    "\"\"\"\n",
    "\n",
    "headers_to_split_on=[\n",
    "    (\"h1\", \"Header\"),\n",
    "    (\"h2\", \"Subheader\")\n",
    "]\n",
    "\n",
    "html_separetor=HTMLHeaderTextSplitter(headers_to_split_on)\n",
    "html_header_splits=html_separetor.split_text(html_string)\n",
    "html_header_splits"
   ]
  },
  {
   "cell_type": "code",
   "execution_count": null,
   "id": "784c347f",
   "metadata": {},
   "outputs": [
    {
     "data": {
      "text/plain": [
       "[Document(metadata={}, page_content=\"BEGIN: Page Header /container Hotjar Tracking Code for https://guides.smu.edu/  6 DEC 2022 END: Page Header BEGIN: Guide Info Header END: Guide Info Header BEGIN: Guide Content END: Guide Content BEGIN: Page Footer END: Page Footer scroll_top.twig !scroll_top.twig BEGIN: Custom Footer BEGIN FOOTER END: Custom Footer  \\nSkip to Main Content  \\nSearch Library Resources  \\nMy Account  \\nNavigate  \\nSMU Libraries  \\nFind & Borrow  \\nFind  \\nBorrow  \\nResearch & Teaching  \\nScholarship & Research  \\nTeaching & Learning  \\nLocations & Collections  \\nBridwell Library  \\nDeGolyer Library  \\nDuda Family Business Library  \\nFondren Library  \\nHamon Arts Library  \\nUnderwood Law Library  \\nFort Burgwin Library  \\nExhibits & Digital Collections  \\nSMU Scholar  \\nSpecial Collections & Archives  \\nVisit  \\nVisit  \\nSpaces  \\nAbout  \\nAbout Us  \\nJoin Us  \\nConnect With Us  \\nGet Help  \\nAsk Us  \\nFAQ  \\nResearch Guides by Subject  \\nHow Do I . . . ? Guides  \\nFind Your Librarian  \\nWorkshops  \\nWriting Support  \\n(function(h,o,t,j,a,r){\\n        h.hj=h.hj||function(){(h.hj.q=h.hj.q||[]).push(arguments)};\\n        h._hjSettings={hjid:2459816,hjsv:6};\\n        a=o.getElementsByTagName('head')[0];\\n        r=o.createElement('script');r.async=1;\\n        r.src=t+h._hjSettings.hjid+j+h._hjSettings.hjsv;\\n        a.appendChild(r);\\n    })(window,document,'https://static.hotjar.com/c/hotjar-','.js?sv=');  \\nSMU Libraries  \\nResearch Guides  \\nHow-to Guides  \\nResearch with Generative AI  \\nOverview  \\nSearch for guides & databases  \\nGO\"),\n",
       " Document(metadata={'Header 1': 'Research with Generative AI: Overview'}, page_content='Research with Generative AI: Overview'),\n",
       " Document(metadata={'Header 1': 'Research with Generative AI: Overview'}, page_content='Overview  \\nResearch with GenAI  \\nPrompting  \\nImprove Research Papers'),\n",
       " Document(metadata={'Header 1': 'Research with Generative AI: Overview', 'Header 2': 'What is generative AI?'}, page_content='What is generative AI?'),\n",
       " Document(metadata={'Header 1': 'Research with Generative AI: Overview', 'Header 2': 'What is generative AI?'}, page_content='(GenAI) is a type of artificial intelligence that produces content such as text, images, or music. GenAI does not actually understand the content it produces. Instead, it\\xa0makes predictions\\xa0about the relationships between words, images, and sounds.  \\nGenerative AI  \\nGenAI is trained on datasets, called large language models, that allow it to know how grammar, vocabulary, and style contribute to text. It\\xa0mimics the language structures learned from the data to create coherent sentences.  \\nmakes it possible for computers to learn from large datasets without being explicitly programmed to do so. This means that performance is continually improved through more data exposure.  \\nMachine learning'),\n",
       " Document(metadata={'Header 1': 'Research with Generative AI: Overview', 'Header 2': 'Learn More'}, page_content='Learn More'),\n",
       " Document(metadata={'Header 1': 'Research with Generative AI: Overview', 'Header 2': 'Learn More'}, page_content=\"Introduction to Generative AI, Canvas tutorial (25 minutes)  \\nThinking Critically about Generative AI, Canvas tutorial (35 minutes)  \\nChatGPT Doesn't Know Anything  \\nWhat are tokens and how to count them?  \\nMachine learning, explained  \\nA Gentle Introduction to Generative AI for Beginners\"),\n",
       " Document(metadata={'Header 1': 'Research with Generative AI: Overview', 'Header 2': 'Need More Help?'}, page_content='Need More Help?'),\n",
       " Document(metadata={'Header 1': 'Research with Generative AI: Overview'}, page_content='Schedule Appointment  \\nResearch with GenAI >>  \\nNext:  \\nLast Updated:  \\nJul 24, 2025 9:54 AM  \\nURL:  \\nhttps://guides.smu.edu/GenAIResearch  \\nPrint Page  \\nLogin to LibApps  \\nReport a problem.  \\n| |  \\nMaps & Directions  \\nContact Us  \\nFeedback  \\n|  \\nAccessibility  \\nLegal Disclosures  \\n© SMU Libraries, PO Box 750135, Dallas, TX 75275')]"
      ]
     },
     "execution_count": 10,
     "metadata": {},
     "output_type": "execute_result"
    }
   ],
   "source": [
    "# change the in our websitem go to the o/p link\n",
    "url = \"https://guides.smu.edu/GenAIResearch\"\n",
    "\n",
    "headers_to_split_on = [\n",
    "    (\"h1\", \"Header 1\"),\n",
    "    (\"h2\", \"Header 2\"),\n",
    "    (\"h3\", \"Header 3\"),\n",
    "    (\"h4\", \"Header 4\"),\n",
    "]\n",
    "\n",
    "html_separetor=HTMLHeaderTextSplitter(headers_to_split_on)\n",
    "load_header =html_separetor.split_text_from_url(url)\n",
    "load_header"
   ]
  },
  {
   "cell_type": "markdown",
   "id": "162fc110",
   "metadata": {},
   "source": [
    "## HTMLHeaderTextSplitter With BeautifulSoup\n",
    "- for understanding the actual what are website are says\n",
    "- can user are specific search to give specific answer."
   ]
  },
  {
   "cell_type": "code",
   "execution_count": 1,
   "id": "1ce3c94c",
   "metadata": {},
   "outputs": [
    {
     "name": "stdout",
     "output_type": "stream",
     "text": [
      "Section 1:\n",
      "Header: LangChain Guide\n",
      "Content: LangChain Guide\n",
      "Metadata: {'Header 1': 'LangChain Guide'}\n",
      "--------------------------------------------------\n",
      "Section 2:\n",
      "Header: LangChain Guide\n",
      "Content: LangChain is a framework for building LLM-powered apps.\n",
      "Metadata: {'Header 1': 'LangChain Guide'}\n",
      "--------------------------------------------------\n",
      "Section 3:\n",
      "Header: LangChain Guide\n",
      "Content: Installation\n",
      "Metadata: {'Header 1': 'LangChain Guide', 'Header 2': 'Installation'}\n",
      "--------------------------------------------------\n",
      "Section 4:\n",
      "Header: LangChain Guide\n",
      "Content: Install using pip: pip install langchain\n",
      "Metadata: {'Header 1': 'LangChain Guide', 'Header 2': 'Installation'}\n",
      "--------------------------------------------------\n",
      "Section 5:\n",
      "Header: LangChain Guide\n",
      "Content: Usage\n",
      "Metadata: {'Header 1': 'LangChain Guide', 'Header 2': 'Usage'}\n",
      "--------------------------------------------------\n",
      "Section 6:\n",
      "Header: LangChain Guide\n",
      "Content: Use LangChain to create chains, agents, and tools.\n",
      "Metadata: {'Header 1': 'LangChain Guide', 'Header 2': 'Usage'}\n",
      "--------------------------------------------------\n",
      "Section 7:\n",
      "Header: LangChain Guide\n",
      "Content: Example\n",
      "Metadata: {'Header 1': 'LangChain Guide', 'Header 2': 'Usage', 'Header 3': 'Example'}\n",
      "--------------------------------------------------\n",
      "Section 8:\n",
      "Header: LangChain Guide\n",
      "Content: This is an example of using LangChain in Python.\n",
      "Metadata: {'Header 1': 'LangChain Guide', 'Header 2': 'Usage', 'Header 3': 'Example'}\n",
      "--------------------------------------------------\n"
     ]
    }
   ],
   "source": [
    "from bs4 import BeautifulSoup\n",
    "from langchain.text_splitter import HTMLHeaderTextSplitter\n",
    "\n",
    "# 1. Sample HTML content\n",
    "html_content = \"\"\"\n",
    "<html>\n",
    "<head><title>Sample Page</title></head>\n",
    "<body>\n",
    "<h1>LangChain Guide</h1>\n",
    "<p>LangChain is a framework for building LLM-powered apps.</p>\n",
    "<h2>Installation</h2>\n",
    "<p>Install using pip: pip install langchain</p>\n",
    "<h2>Usage</h2>\n",
    "<p>Use LangChain to create chains, agents, and tools.</p>\n",
    "<h3>Example</h3>\n",
    "<p>This is an example of using LangChain in Python.</p>\n",
    "</body>\n",
    "</html>\n",
    "\"\"\"\n",
    "\n",
    "# 2. Clean/Parse HTML with BeautifulSoup\n",
    "soup = BeautifulSoup(html_content, \"html.parser\")\n",
    "\n",
    "# (Optional) You can clean unwanted tags like script, style, etc.\n",
    "for tag in soup([\"script\", \"style\"]):\n",
    "    tag.decompose()\n",
    "\n",
    "clean_html = str(soup)\n",
    "\n",
    "# 3. Split HTML by headers\n",
    "html_splitter = HTMLHeaderTextSplitter(\n",
    "    headers_to_split_on=[(\"h1\", \"Header 1\"), (\"h2\", \"Header 2\"), (\"h3\", \"Header 3\")]\n",
    ")\n",
    "\n",
    "splits = html_splitter.split_text(clean_html)\n",
    "\n",
    "# 4. Print results\n",
    "for i, section in enumerate(splits, 1):\n",
    "    print(f\"Section {i}:\")\n",
    "    print(\"Header:\", section.metadata[\"Header 1\"] if \"Header 1\" in section.metadata else \"No H1\")\n",
    "    print(\"Content:\", section.page_content)\n",
    "    print(\"Metadata:\", section.metadata)\n",
    "    print(\"-\" * 50)\n"
   ]
  }
 ],
 "metadata": {
  "kernelspec": {
   "display_name": "Python 3",
   "language": "python",
   "name": "python3"
  },
  "language_info": {
   "codemirror_mode": {
    "name": "ipython",
    "version": 3
   },
   "file_extension": ".py",
   "mimetype": "text/x-python",
   "name": "python",
   "nbconvert_exporter": "python",
   "pygments_lexer": "ipython3",
   "version": "3.10.0"
  }
 },
 "nbformat": 4,
 "nbformat_minor": 5
}
